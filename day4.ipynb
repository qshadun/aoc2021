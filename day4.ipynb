{
 "cells": [
  {
   "cell_type": "code",
   "execution_count": 23,
   "metadata": {},
   "outputs": [],
   "source": [
    "from utils import read_lines\n",
    "\n",
    "def parse_numbers(line, sep=' '):\n",
    "    return [int(x) for x in line.split(sep) if x.strip()]\n",
    "\n",
    "def parse_input(input_file):\n",
    "    lines = read_lines(input_file)\n",
    "    seq = parse_numbers(lines[0], ',')\n",
    "\n",
    "    lines = lines[2:]\n",
    "    boards = []\n",
    "    markers = []\n",
    "    for i in range(0, len(lines), 6):\n",
    "        board = []\n",
    "        marker = [[0] * 5 for  _ in range(5)]\n",
    "        for j in range(i, i+5):\n",
    "            board.append(parse_numbers(lines[j]))\n",
    "        boards.append(board)\n",
    "        markers.append(marker)\n",
    "    return seq, boards, markers\n",
    "\n",
    "def mark(board, marker, num):\n",
    "    for i in range(5):\n",
    "        for j in range(5):\n",
    "            if board[i][j] == num:\n",
    "                marker[i][j] = 1\n",
    "                return\n",
    "\n",
    "def bingo(marker):\n",
    "    for i in range(5):\n",
    "        if sum(marker[i]) == 5:\n",
    "            return True\n",
    "    for j in range(5):\n",
    "        if sum(marker[i][j] for i in range(5)) == 5:\n",
    "            return True\n",
    "    return False\n",
    "\n",
    "def sum_unmarked(board, marker):\n",
    "    ans = 0\n",
    "    for i in range(5):\n",
    "        for j in range(5):\n",
    "            if not marker[i][j]:\n",
    "                ans += board[i][j]\n",
    "    return ans\n",
    "\n",
    "def part1(input_file):\n",
    "    seq, boards, markers = parse_input(input_file)\n",
    "    n = len(boards)\n",
    "    \n",
    "    for num in seq:\n",
    "        for i in range(n):\n",
    "            mark(boards[i], markers[i], num)\n",
    "            if bingo(markers[i]):\n",
    "                sum = sum_unmarked(boards[i], markers[i])\n",
    "                print(num, sum, num * sum)\n",
    "                return sum * num\n",
    "        \n",
    "\n",
    "\n",
    "def part2(input_file):\n",
    "    seq, boards, markers = parse_input(input_file)\n",
    "    n = len(boards)\n",
    "    \n",
    "    for num in seq:\n",
    "        winned = set()\n",
    "        for i in range(len(boards)):\n",
    "            mark(boards[i], markers[i], num)\n",
    "            if bingo(markers[i]):\n",
    "                if len(boards) == 1:\n",
    "                    sum = sum_unmarked(boards[i], markers[i])\n",
    "                    print(num, sum, num * sum)\n",
    "                    return sum * num\n",
    "                else:\n",
    "                    winned.add(i)\n",
    "        if winned:\n",
    "            boards = [boards[i] for i in range(len(boards)) if i not in winned]\n",
    "            markers = [markers[i] for i in range(len(markers)) if i not in winned]"
   ]
  },
  {
   "cell_type": "code",
   "execution_count": 24,
   "metadata": {},
   "outputs": [
    {
     "name": "stdout",
     "output_type": "stream",
     "text": [
      "24 188 4512\n"
     ]
    },
    {
     "data": {
      "text/plain": [
       "4512"
      ]
     },
     "execution_count": 24,
     "metadata": {},
     "output_type": "execute_result"
    }
   ],
   "source": [
    "part1('inputs/day4_test.txt')"
   ]
  },
  {
   "cell_type": "code",
   "execution_count": 25,
   "metadata": {},
   "outputs": [
    {
     "name": "stdout",
     "output_type": "stream",
     "text": [
      "12 678 8136\n"
     ]
    },
    {
     "data": {
      "text/plain": [
       "8136"
      ]
     },
     "execution_count": 25,
     "metadata": {},
     "output_type": "execute_result"
    }
   ],
   "source": [
    "part1('inputs/day4.txt')"
   ]
  },
  {
   "cell_type": "code",
   "execution_count": 26,
   "metadata": {},
   "outputs": [
    {
     "name": "stdout",
     "output_type": "stream",
     "text": [
      "13 148 1924\n"
     ]
    },
    {
     "data": {
      "text/plain": [
       "1924"
      ]
     },
     "execution_count": 26,
     "metadata": {},
     "output_type": "execute_result"
    }
   ],
   "source": [
    "part2('inputs/day4_test.txt')"
   ]
  },
  {
   "cell_type": "code",
   "execution_count": 27,
   "metadata": {},
   "outputs": [
    {
     "name": "stdout",
     "output_type": "stream",
     "text": [
      "66 193 12738\n"
     ]
    },
    {
     "data": {
      "text/plain": [
       "12738"
      ]
     },
     "execution_count": 27,
     "metadata": {},
     "output_type": "execute_result"
    }
   ],
   "source": [
    "part2('inputs/day4.txt')"
   ]
  },
  {
   "cell_type": "code",
   "execution_count": null,
   "metadata": {},
   "outputs": [],
   "source": []
  }
 ],
 "metadata": {
  "kernelspec": {
   "display_name": "Test",
   "language": "python",
   "name": "python3"
  },
  "language_info": {
   "codemirror_mode": {
    "name": "ipython",
    "version": 3
   },
   "file_extension": ".py",
   "mimetype": "text/x-python",
   "name": "python",
   "nbconvert_exporter": "python",
   "pygments_lexer": "ipython3",
   "version": "3.12.2"
  }
 },
 "nbformat": 4,
 "nbformat_minor": 2
}
