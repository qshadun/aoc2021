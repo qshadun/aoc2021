{
 "cells": [
  {
   "cell_type": "code",
   "execution_count": 20,
   "metadata": {},
   "outputs": [],
   "source": [
    "test_input = [4, 8]\n",
    "input = [8, 6]\n",
    "\n",
    "def part1(input):\n",
    "    p1, p2 = [n -1 for n in input]\n",
    "    s1, s2 = 0, 0\n",
    "    round = 0\n",
    "    while True:\n",
    "        di = (round * 6) % 100\n",
    "        steps = 0\n",
    "        for i in range(3):\n",
    "            steps += di + 1\n",
    "            di = (di + 1) % 100\n",
    "        p1 = (p1 + steps) % 10\n",
    "        s1 += p1 + 1\n",
    "        if s1 >= 1000:\n",
    "            return s2 * (round * 6 + 3)\n",
    "        steps = 0\n",
    "        for i in range(3):\n",
    "            steps += di + 1\n",
    "            di = (di + 1) % 100\n",
    "        p2 = (p2 + steps) % 10\n",
    "        s2 += p2 + 1\n",
    "        if s2 >= 1000:\n",
    "            return s1 * (round + 1) * 6\n",
    "        # print(p1 + 1, s1, p2 + 1, s2, round)\n",
    "        round += 1"
   ]
  },
  {
   "cell_type": "code",
   "execution_count": 21,
   "metadata": {},
   "outputs": [
    {
     "data": {
      "text/plain": [
       "739785"
      ]
     },
     "execution_count": 21,
     "metadata": {},
     "output_type": "execute_result"
    }
   ],
   "source": [
    "part1(test_input)"
   ]
  },
  {
   "cell_type": "code",
   "execution_count": 2,
   "metadata": {},
   "outputs": [
    {
     "data": {
      "text/plain": [
       "503478"
      ]
     },
     "execution_count": 2,
     "metadata": {},
     "output_type": "execute_result"
    }
   ],
   "source": [
    "part1(input)"
   ]
  },
  {
   "cell_type": "code",
   "execution_count": 17,
   "metadata": {},
   "outputs": [],
   "source": [
    "from collections import Counter, deque\n",
    "\n",
    "roll_results = [[x, y, z] for x in range(1, 4) for y in range(1, 4) for z in range(1, 4)]\n",
    "roll_results = [sum(x) for x in roll_results]\n",
    "roll_results = Counter(roll_results)\n",
    "\n",
    "def part2(input):\n",
    "    p1, p2 = [n -1 for n in input]\n",
    "    s1, s2 = 0, 0\n",
    "    cur_state = {(p1, s1, p2, s2): 1}\n",
    "    u1, u2 = 0, 0\n",
    "    while cur_state:\n",
    "        new_state = {}\n",
    "        for (p1, s1, p2, s2), u in cur_state.items():\n",
    "            res1 = []\n",
    "            for steps, cnt in roll_results.items():\n",
    "                np1 = (p1 + steps) % 10\n",
    "                ns1 = s1 + np1 + 1\n",
    "                if ns1 >= 21:\n",
    "                    u1 += cnt * u\n",
    "                else:\n",
    "                    res1.append([np1, ns1, cnt])\n",
    "            not_win = sum(x[2] for x in res1)\n",
    "            res2 = []\n",
    "            for steps, cnt in roll_results.items():\n",
    "                np2 = (p2 + steps) % 10\n",
    "                ns2 = s2 + np2 + 1\n",
    "                if ns2 >= 21:\n",
    "                    u2 += cnt * u * not_win\n",
    "                else:\n",
    "                    res2.append([np2, ns2, cnt])\n",
    "            for np1, ns1, cnt1 in res1:\n",
    "                for np2, ns2, cnt2 in res2:\n",
    "                    k = (np1, ns1, np2, ns2)\n",
    "                    new_state[k] = new_state.get(k, 0) + u * cnt1 * cnt2\n",
    "        cur_state = new_state\n",
    "    return u1, u2, max(u1, u2)"
   ]
  },
  {
   "cell_type": "code",
   "execution_count": 18,
   "metadata": {},
   "outputs": [
    {
     "data": {
      "text/plain": [
       "(444356092776315, 341960390180808, 444356092776315)"
      ]
     },
     "execution_count": 18,
     "metadata": {},
     "output_type": "execute_result"
    }
   ],
   "source": [
    "part2(test_input)"
   ]
  },
  {
   "cell_type": "code",
   "execution_count": 19,
   "metadata": {},
   "outputs": [
    {
     "data": {
      "text/plain": [
       "(716241959649754, 436714381695627, 716241959649754)"
      ]
     },
     "execution_count": 19,
     "metadata": {},
     "output_type": "execute_result"
    }
   ],
   "source": [
    "part2(input)"
   ]
  },
  {
   "cell_type": "code",
   "execution_count": null,
   "metadata": {},
   "outputs": [],
   "source": []
  }
 ],
 "metadata": {
  "kernelspec": {
   "display_name": "Test",
   "language": "python",
   "name": "python3"
  },
  "language_info": {
   "codemirror_mode": {
    "name": "ipython",
    "version": 3
   },
   "file_extension": ".py",
   "mimetype": "text/x-python",
   "name": "python",
   "nbconvert_exporter": "python",
   "pygments_lexer": "ipython3",
   "version": "3.12.2"
  }
 },
 "nbformat": 4,
 "nbformat_minor": 2
}
