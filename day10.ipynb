{
 "cells": [
  {
   "cell_type": "code",
   "execution_count": 15,
   "metadata": {},
   "outputs": [],
   "source": [
    "from utils import read_lines\n",
    "\n",
    "scores = {\n",
    "    ')': 3,\n",
    "    ']': 57,\n",
    "    '}': 1197,\n",
    "    '>': 25137,\n",
    "}\n",
    "\n",
    "def part1(input_file):\n",
    "    lines = read_lines(input_file)\n",
    "    ans = 0\n",
    "    for line in lines:\n",
    "        st = []\n",
    "        for c in line:\n",
    "            match c:\n",
    "                case ')':\n",
    "                    if not st or st[-1] != '(':\n",
    "                        ans += scores[c]\n",
    "                        break\n",
    "                    else:\n",
    "                        st.pop()\n",
    "                case ']':\n",
    "                    if not st or st[-1] != '[':\n",
    "                        ans += scores[c]\n",
    "                        break\n",
    "                    else:\n",
    "                        st.pop()\n",
    "                case '}':\n",
    "                    if not st or st[-1] != '{':\n",
    "                        ans += scores[c]\n",
    "                        break\n",
    "                    else:\n",
    "                        st.pop()\n",
    "                case '>':\n",
    "                    if not st or st[-1] != '<':\n",
    "                        ans += scores[c]\n",
    "                        break\n",
    "                    else:\n",
    "                        st.pop()\n",
    "                case _:\n",
    "                    st.append(c)\n",
    "    return ans\n",
    "            \n"
   ]
  },
  {
   "cell_type": "code",
   "execution_count": 16,
   "metadata": {},
   "outputs": [
    {
     "data": {
      "text/plain": [
       "311949"
      ]
     },
     "execution_count": 16,
     "metadata": {},
     "output_type": "execute_result"
    }
   ],
   "source": [
    "part1('inputs/day10.txt')"
   ]
  },
  {
   "cell_type": "code",
   "execution_count": 21,
   "metadata": {},
   "outputs": [
    {
     "data": {
      "text/plain": [
       "288957"
      ]
     },
     "execution_count": 21,
     "metadata": {},
     "output_type": "execute_result"
    }
   ],
   "source": [
    "completion_points = {\n",
    "    '(': 1,\n",
    "    '[': 2,\n",
    "    '{': 3,\n",
    "    '<': 4,\n",
    "}\n",
    "\n",
    "def part2(input_file):\n",
    "    lines = read_lines(input_file)\n",
    "    completion_scores = []\n",
    "    for line in lines:\n",
    "        st = []\n",
    "        corrupted = False\n",
    "        for c in line:\n",
    "            match c:\n",
    "                case ')':\n",
    "                    if not st or st[-1] != '(':\n",
    "                        corrupted = True\n",
    "                        break\n",
    "                    else:\n",
    "                        st.pop()\n",
    "                case ']':\n",
    "                    if not st or st[-1] != '[':\n",
    "                        corrupted = True\n",
    "                        break\n",
    "                    else:\n",
    "                        st.pop()\n",
    "                case '}':\n",
    "                    if not st or st[-1] != '{':\n",
    "                        corrupted = True\n",
    "                        break\n",
    "                    else:\n",
    "                        st.pop()\n",
    "                case '>':\n",
    "                    if not st or st[-1] != '<':\n",
    "                        corrupted = True\n",
    "                        break\n",
    "                    else:\n",
    "                        st.pop()\n",
    "                case _:\n",
    "                    st.append(c)\n",
    "        if st and not corrupted:\n",
    "            score = 0\n",
    "            for c in st[::-1]:\n",
    "                score = score * 5 + completion_points[c]\n",
    "            completion_scores.append(score)\n",
    "            \n",
    "        completion_scores.sort()\n",
    "    return completion_scores[len(completion_scores) // 2]\n",
    "\n",
    "part2('inputs/day10_test.txt')"
   ]
  },
  {
   "cell_type": "code",
   "execution_count": 22,
   "metadata": {},
   "outputs": [
    {
     "data": {
      "text/plain": [
       "3042730309"
      ]
     },
     "execution_count": 22,
     "metadata": {},
     "output_type": "execute_result"
    }
   ],
   "source": [
    "part2('inputs/day10.txt')"
   ]
  },
  {
   "cell_type": "code",
   "execution_count": null,
   "metadata": {},
   "outputs": [],
   "source": []
  }
 ],
 "metadata": {
  "kernelspec": {
   "display_name": "Python 3",
   "language": "python",
   "name": "python3"
  },
  "language_info": {
   "codemirror_mode": {
    "name": "ipython",
    "version": 3
   },
   "file_extension": ".py",
   "mimetype": "text/x-python",
   "name": "python",
   "nbconvert_exporter": "python",
   "pygments_lexer": "ipython3",
   "version": "3.12.2"
  }
 },
 "nbformat": 4,
 "nbformat_minor": 2
}
