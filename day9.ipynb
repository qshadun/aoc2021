{
 "cells": [
  {
   "cell_type": "code",
   "execution_count": 10,
   "metadata": {},
   "outputs": [],
   "source": [
    "from utils import read_lines\n",
    "from collections import deque\n",
    "\n",
    "def parse_input(input_file):\n",
    "    lines = read_lines(input_file)\n",
    "    return [[int(c) for c in line] for line in lines]\n",
    "\n",
    "def neightbors(matrix, i, j):\n",
    "    ans = []\n",
    "    if i > 0:\n",
    "        ans.append([i-1, j]);\n",
    "    if i < len(matrix) - 1:\n",
    "        ans.append([i + 1, j])\n",
    "    if j > 0:\n",
    "        ans.append([i, j-1])\n",
    "    if j < len(matrix[0]) - 1:\n",
    "        ans.append([i, j+1])\n",
    "    return ans\n",
    "\n",
    "def part1(input_file):\n",
    "    matrix = parse_input(input_file)\n",
    "    ans = 0\n",
    "    for i, row in enumerate(matrix):\n",
    "        for j, num in enumerate(row):\n",
    "            if all(num < matrix[ni][nj] for ni, nj in neightbors(matrix, i, j)):\n",
    "                ans += num + 1\n",
    "    return ans\n",
    "\n",
    "def part2(input_file):\n",
    "    matrix = parse_input(input_file)\n",
    "    low_points = []\n",
    "    for i, row in enumerate(matrix):\n",
    "        for j, num in enumerate(row):\n",
    "            if all(num < matrix[ni][nj] for ni, nj in neightbors(matrix, i, j)):\n",
    "                low_points.append([i, j])\n",
    "    basin_sizes = []\n",
    "    for i, j in low_points:\n",
    "        q = deque([(i, j)])\n",
    "        visited = set()\n",
    "        visited.add((i, j))\n",
    "        while q:\n",
    "            ci, cj = q.popleft()\n",
    "            for ni, nj in neightbors(matrix, ci, cj):\n",
    "                if (ni, nj) not in visited and matrix[ni][nj] != 9 and matrix[ni][nj] > matrix[ci][cj]:\n",
    "                    visited.add((ni, nj))\n",
    "                    q.append((ni, nj))\n",
    "        basin_sizes.append(len(visited))\n",
    "    basin_sizes.sort()\n",
    "    return basin_sizes[-1] * basin_sizes[-2] * basin_sizes[-3]"
   ]
  },
  {
   "cell_type": "code",
   "execution_count": 9,
   "metadata": {},
   "outputs": [
    {
     "data": {
      "text/plain": [
       "486"
      ]
     },
     "execution_count": 9,
     "metadata": {},
     "output_type": "execute_result"
    }
   ],
   "source": [
    "part1('inputs/day9.txt')"
   ]
  },
  {
   "cell_type": "code",
   "execution_count": 12,
   "metadata": {},
   "outputs": [
    {
     "data": {
      "text/plain": [
       "1059300"
      ]
     },
     "execution_count": 12,
     "metadata": {},
     "output_type": "execute_result"
    }
   ],
   "source": [
    "part2('inputs/day9.txt')"
   ]
  },
  {
   "cell_type": "code",
   "execution_count": null,
   "metadata": {},
   "outputs": [],
   "source": []
  }
 ],
 "metadata": {
  "kernelspec": {
   "display_name": "Test",
   "language": "python",
   "name": "python3"
  },
  "language_info": {
   "codemirror_mode": {
    "name": "ipython",
    "version": 3
   },
   "file_extension": ".py",
   "mimetype": "text/x-python",
   "name": "python",
   "nbconvert_exporter": "python",
   "pygments_lexer": "ipython3",
   "version": "3.12.2"
  }
 },
 "nbformat": 4,
 "nbformat_minor": 2
}
