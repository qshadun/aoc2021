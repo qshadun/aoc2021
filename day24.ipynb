{
 "cells": [
  {
   "cell_type": "code",
   "execution_count": 31,
   "metadata": {},
   "outputs": [],
   "source": [
    "from utils import read_lines\n",
    "\n",
    "idx_to_name = ['w', 'x', 'y', 'z']\n",
    "name_to_idx = {name: idx for idx, name in enumerate(idx_to_name)}\n",
    "\n",
    "class Inp:\n",
    "    action = 'inp'\n",
    "    def __init__(self, op1_idx):\n",
    "        self.op1_idx = op1_idx\n",
    "\n",
    "    def eval(self, registers, input_val):\n",
    "        registers[self.op1_idx] = input_val\n",
    "    \n",
    "    def __repr__(self):\n",
    "        return f'inp {idx_to_name[self.op1_idx]}'\n",
    "\n",
    "class OpBase:\n",
    "    action = 'base'\n",
    "    def __init__(self, op1_idx, op2_idx, op2_value):\n",
    "        self.op1_idx = op1_idx\n",
    "        self.op2_idx = op2_idx\n",
    "        self.op2_value = op2_value\n",
    "    \n",
    "    def eval(self, registers):\n",
    "        raise ValueError('Not implemented')\n",
    "    \n",
    "    def __repr__(self):\n",
    "        return f'{self.action} {idx_to_name[self.op1_idx]} {idx_to_name[self.op2_idx] if self.op2_idx is not None else self.op2_value}'\n",
    "    \n",
    "class Add(OpBase):\n",
    "    action = 'add'\n",
    "    def __init__(self, op1_idx, op2_idx, op2_value):\n",
    "        super().__init__(op1_idx, op2_idx, op2_value)\n",
    "    \n",
    "    def eval(self, registers):\n",
    "        if self.op2_idx is not None:\n",
    "            registers[self.op1_idx] += registers[self.op2_idx]\n",
    "        else:\n",
    "            registers[self.op1_idx] += self.op2_value\n",
    "\n",
    "class Mul(OpBase):\n",
    "    action = 'mul'\n",
    "    def __init__(self, op1_idx, op2_idx, op2_value):\n",
    "        super().__init__(op1_idx, op2_idx, op2_value)\n",
    "    \n",
    "    def eval(self, registers):\n",
    "        if self.op2_idx is not None:\n",
    "            registers[self.op1_idx] *= registers[self.op2_idx]\n",
    "        else:\n",
    "            registers[self.op1_idx] *= self.op2_value\n",
    "\n",
    "\n",
    "class Div(OpBase):\n",
    "    action = 'div'\n",
    "    def __init__(self, op1_idx, op2_idx, op2_value):\n",
    "        super().__init__(op1_idx, op2_idx, op2_value)\n",
    "    \n",
    "    def eval(self, registers):\n",
    "        if self.op2_idx is not None:\n",
    "            registers[self.op1_idx] //= registers[self.op2_idx]\n",
    "        else:\n",
    "            registers[self.op1_idx] //= self.op2_value\n",
    "\n",
    "class Mod(OpBase):\n",
    "    action = 'mod'\n",
    "    def __init__(self, op1_idx, op2_idx, op2_value):\n",
    "        super().__init__(op1_idx, op2_idx, op2_value)\n",
    "    \n",
    "    def eval(self, registers):\n",
    "        if self.op2_idx is not None:\n",
    "            registers[self.op1_idx] %= registers[self.op2_idx]\n",
    "        else:\n",
    "            registers[self.op1_idx] %= self.op2_value\n",
    "\n",
    "class Eql(OpBase):\n",
    "    action = 'eql'\n",
    "    def __init__(self, op1_idx, op2_idx, op2_value):\n",
    "        super().__init__(op1_idx, op2_idx, op2_value)\n",
    "    \n",
    "    def eval(self, registers):\n",
    "        if self.op2_idx is not None:\n",
    "            registers[self.op1_idx] = 1 if registers[self.op1_idx] == registers[self.op2_idx] else 0\n",
    "        else:\n",
    "            registers[self.op1_idx] = 1 if registers[self.op1_idx] == self.op2_value else 0\n",
    "\n",
    "def parse_instruction(line):\n",
    "    parts = line.split(' ')\n",
    "    op1_idx = name_to_idx[parts[1]]\n",
    "    if parts[0] == 'inp':\n",
    "        return Inp(op1_idx)\n",
    "    if parts[2] in name_to_idx:\n",
    "        op2_idx = name_to_idx[parts[2]]\n",
    "        op2_value = None\n",
    "    else:\n",
    "        op2_idx = None\n",
    "        op2_value = int(parts[2])\n",
    "    match parts[0]:\n",
    "        case 'add':\n",
    "            return Add(op1_idx, op2_idx, op2_value)\n",
    "        case 'mul':\n",
    "            return Mul(op1_idx, op2_idx, op2_value)\n",
    "        case 'div':\n",
    "            return Div(op1_idx, op2_idx, op2_value)\n",
    "        case 'mod':\n",
    "            return Mod(op1_idx, op2_idx, op2_value)\n",
    "        case 'eql':\n",
    "            return Eql(op1_idx, op2_idx, op2_value)\n",
    "        case x:\n",
    "            raise ValueError(f'unknown instruction {x}')\n",
    "\n",
    "def parse_input(input_file):\n",
    "    return [parse_instruction(line) for line in read_lines(input_file)]\n",
    "\n",
    "def run_inputs(instructions, inputs):\n",
    "    registers = [0] * 4\n",
    "    i = 0\n",
    "    for ins in instructions:\n",
    "        if ins.action == 'inp':\n",
    "            print(registers)\n",
    "            ins.eval(registers, inputs[i])\n",
    "            i += 1\n",
    "        else:\n",
    "            ins.eval(registers)\n",
    "    return registers\n",
    "\n",
    "def parse_and_run(instructions, num):\n",
    "    inputs = [int(i) for i in str(num)]\n",
    "    if any(x == 0 for x in inputs):\n",
    "        return None\n",
    "    return run_inputs(instructions, inputs)\n",
    "\n",
    "def part1(input_file):\n",
    "    instructions = parse_input(input_file)\n",
    "    for num in range(99_999_999_999_999, 11_111_111_111_110, -1):\n",
    "        inputs = [int(i) for i in str(num)]\n",
    "        if any(x == 0 for x in inputs):\n",
    "            continue\n",
    "        if run_inputs(instructions, inputs)[-1] == 0:\n",
    "            return num\n",
    "    "
   ]
  },
  {
   "cell_type": "code",
   "execution_count": null,
   "metadata": {},
   "outputs": [],
   "source": [
    "part1('inputs/day24.txt')"
   ]
  },
  {
   "cell_type": "code",
   "execution_count": 42,
   "metadata": {},
   "outputs": [],
   "source": [
    "instructions = parse_input('inputs/day24.txt')\n",
    "sections = []\n",
    "cur_section = []\n",
    "for ins in instructions:\n",
    "    if ins.action == 'inp':\n",
    "        if cur_section:\n",
    "            sections.append(cur_section)\n",
    "            cur_section = []\n",
    "        cur_section.append(ins)\n",
    "    else:\n",
    "        cur_section.append(ins)\n",
    "sections.append(cur_section)\n",
    "\n"
   ]
  },
  {
   "cell_type": "code",
   "execution_count": 49,
   "metadata": {},
   "outputs": [],
   "source": [
    "def run_section(section, input, z):\n",
    "    registers = [0] * 3 + [z]\n",
    "    for ins in section:\n",
    "        if ins.action == 'inp':\n",
    "            ins.eval(registers, input)\n",
    "        else:\n",
    "            ins.eval(registers)\n",
    "    return registers"
   ]
  },
  {
   "cell_type": "code",
   "execution_count": 46,
   "metadata": {},
   "outputs": [
    {
     "data": {
      "text/plain": [
       "{16: 1, 17: 2, 18: 3, 19: 4, 20: 5, 21: 6, 22: 7, 23: 8, 24: 9}"
      ]
     },
     "execution_count": 46,
     "metadata": {},
     "output_type": "execute_result"
    }
   ],
   "source": [
    "z_to_max_input = {}\n",
    "for input in range(1, 10):\n",
    "    registers = run_section(sections[0], input, 0)\n",
    "    z_to_max_input[registers[-1]] = max(z_to_max_input.get(registers[-1], 0), input)\n",
    "z_to_max_input"
   ]
  },
  {
   "cell_type": "code",
   "execution_count": 57,
   "metadata": {},
   "outputs": [
    {
     "name": "stdout",
     "output_type": "stream",
     "text": [
      "0 9\n",
      "1 81\n",
      "2 729\n",
      "3 810\n",
      "4 7290\n",
      "5 7452\n",
      "6 67068\n",
      "7 603612\n",
      "8 5432508\n"
     ]
    },
    {
     "ename": "KeyboardInterrupt",
     "evalue": "",
     "output_type": "error",
     "traceback": [
      "\u001b[0;31m---------------------------------------------------------------------------\u001b[0m",
      "\u001b[0;31mKeyboardInterrupt\u001b[0m                         Traceback (most recent call last)",
      "Cell \u001b[0;32mIn[57], line 6\u001b[0m\n\u001b[1;32m      4\u001b[0m \u001b[38;5;28;01mfor\u001b[39;00m z \u001b[38;5;129;01min\u001b[39;00m zs[i]:\n\u001b[1;32m      5\u001b[0m     \u001b[38;5;28;01mfor\u001b[39;00m \u001b[38;5;28minput\u001b[39m \u001b[38;5;129;01min\u001b[39;00m \u001b[38;5;28mrange\u001b[39m(\u001b[38;5;241m1\u001b[39m, \u001b[38;5;241m10\u001b[39m):\n\u001b[0;32m----> 6\u001b[0m         registers \u001b[38;5;241m=\u001b[39m run_section(sections[i], \u001b[38;5;28minput\u001b[39m, z)\n\u001b[1;32m      7\u001b[0m         zs[i\u001b[38;5;241m+\u001b[39m\u001b[38;5;241m1\u001b[39m]\u001b[38;5;241m.\u001b[39madd(registers[\u001b[38;5;241m-\u001b[39m\u001b[38;5;241m1\u001b[39m])\n\u001b[1;32m      8\u001b[0m \u001b[38;5;28mprint\u001b[39m(i, \u001b[38;5;28mlen\u001b[39m(zs[i\u001b[38;5;241m+\u001b[39m\u001b[38;5;241m1\u001b[39m]))\n",
      "Cell \u001b[0;32mIn[49], line 1\u001b[0m, in \u001b[0;36mrun_section\u001b[0;34m(section, input, z)\u001b[0m\n\u001b[0;32m----> 1\u001b[0m \u001b[38;5;28;01mdef\u001b[39;00m \u001b[38;5;21mrun_section\u001b[39m(section, \u001b[38;5;28minput\u001b[39m, z):\n\u001b[1;32m      2\u001b[0m     registers \u001b[38;5;241m=\u001b[39m [\u001b[38;5;241m0\u001b[39m] \u001b[38;5;241m*\u001b[39m \u001b[38;5;241m3\u001b[39m \u001b[38;5;241m+\u001b[39m [z]\n\u001b[1;32m      3\u001b[0m     \u001b[38;5;28;01mfor\u001b[39;00m ins \u001b[38;5;129;01min\u001b[39;00m section:\n",
      "\u001b[0;31mKeyboardInterrupt\u001b[0m: "
     ]
    }
   ],
   "source": [
    "zs = [set() for _ in range(15)]\n",
    "zs[0].add(0)\n",
    "for i in range(14):\n",
    "    for z in zs[i]:\n",
    "        for input in range(1, 10):\n",
    "            registers = run_section(sections[i], input, z)\n",
    "            zs[i+1].add(registers[-1])\n",
    "    print(i, len(zs[i+1]))\n"
   ]
  },
  {
   "cell_type": "code",
   "execution_count": 58,
   "metadata": {},
   "outputs": [
    {
     "data": {
      "text/plain": [
       "[inp w,\n",
       " mul x 0,\n",
       " add x z,\n",
       " mod x 26,\n",
       " div z 26,\n",
       " add x -10,\n",
       " eql x w,\n",
       " eql x 0,\n",
       " mul y 0,\n",
       " add y 25,\n",
       " mul y x,\n",
       " add y 1,\n",
       " mul z y,\n",
       " mul y 0,\n",
       " add y w,\n",
       " add y 1,\n",
       " mul y x,\n",
       " add z y]"
      ]
     },
     "execution_count": 58,
     "metadata": {},
     "output_type": "execute_result"
    }
   ],
   "source": [
    "sections[13]"
   ]
  },
  {
   "cell_type": "code",
   "execution_count": 64,
   "metadata": {},
   "outputs": [
    {
     "name": "stdout",
     "output_type": "stream",
     "text": [
      "11 1\n",
      "12 2\n",
      "13 3\n",
      "14 4\n",
      "15 5\n",
      "16 6\n",
      "17 7\n",
      "18 8\n",
      "19 9\n"
     ]
    }
   ],
   "source": [
    "zs = set()\n",
    "for z in range(10000):\n",
    "    for input in range(1, 10):\n",
    "        registers = run_section(sections[13], input, z)\n",
    "        zs.add(registers[-1])\n",
    "        if registers[-1] == 0:\n",
    "            print(z, input)\n"
   ]
  },
  {
   "cell_type": "code",
   "execution_count": 63,
   "metadata": {},
   "outputs": [
    {
     "data": {
      "text/plain": [
       "372"
      ]
     },
     "execution_count": 63,
     "metadata": {},
     "output_type": "execute_result"
    }
   ],
   "source": [
    "len(zs)"
   ]
  },
  {
   "cell_type": "code",
   "execution_count": 66,
   "metadata": {},
   "outputs": [],
   "source": [
    "def read_puzzle(filename):\n",
    "    with open(filename) as f:\n",
    "        return [row.split() for row in f.read().split(\"\\n\")]\n",
    "\n",
    "\n",
    "def get_relevant_adds(puzzle):\n",
    "    div1, div26 = [], []\n",
    "    for i in range(0, len(puzzle), 18):\n",
    "        if puzzle[i + 4][2] == \"1\":\n",
    "            div1.append(int(puzzle[i + 15][2]))\n",
    "            div26.append(None)\n",
    "        else:\n",
    "            div1.append(None)\n",
    "            div26.append(int(puzzle[i + 5][2]))\n",
    "    return div1, div26\n",
    "\n",
    "\n",
    "def get_model_no(div1, div26, part1):\n",
    "    modelNo = [0] * 14\n",
    "    stack = []\n",
    "    startDigit = 9 if part1 else 1\n",
    "    for i, (a, b) in enumerate(zip(div1, div26)):\n",
    "        if a:\n",
    "            stack.append((i, a))\n",
    "        else:\n",
    "            ia, a = stack.pop()\n",
    "            diff = a + b\n",
    "            if part1:\n",
    "                modelNo[ia] = min(startDigit, startDigit - diff)\n",
    "                modelNo[i] = min(startDigit, startDigit + diff)\n",
    "            else:\n",
    "                modelNo[ia] = max(startDigit, startDigit - diff)\n",
    "                modelNo[i] = max(startDigit, startDigit + diff)\n",
    "    return modelNo\n",
    "\n",
    "\n",
    "def solve(puzzle, part1=True):\n",
    "    div1, div26 = get_relevant_adds(puzzle)\n",
    "    return \"\".join([str(i) for i in  get_model_no(div1, div26, part1)])"
   ]
  },
  {
   "cell_type": "code",
   "execution_count": 68,
   "metadata": {},
   "outputs": [
    {
     "data": {
      "text/plain": [
       "'49917929934999'"
      ]
     },
     "execution_count": 68,
     "metadata": {},
     "output_type": "execute_result"
    }
   ],
   "source": [
    "solve(read_puzzle('inputs/day24.txt'))"
   ]
  },
  {
   "cell_type": "code",
   "execution_count": 69,
   "metadata": {},
   "outputs": [
    {
     "data": {
      "text/plain": [
       "'11911316711816'"
      ]
     },
     "execution_count": 69,
     "metadata": {},
     "output_type": "execute_result"
    }
   ],
   "source": [
    "solve(read_puzzle('inputs/day24.txt'), False)"
   ]
  },
  {
   "cell_type": "code",
   "execution_count": null,
   "metadata": {},
   "outputs": [],
   "source": []
  }
 ],
 "metadata": {
  "kernelspec": {
   "display_name": "Test",
   "language": "python",
   "name": "python3"
  },
  "language_info": {
   "codemirror_mode": {
    "name": "ipython",
    "version": 3
   },
   "file_extension": ".py",
   "mimetype": "text/x-python",
   "name": "python",
   "nbconvert_exporter": "python",
   "pygments_lexer": "ipython3",
   "version": "3.12.2"
  }
 },
 "nbformat": 4,
 "nbformat_minor": 2
}
