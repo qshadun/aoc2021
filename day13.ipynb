{
 "cells": [
  {
   "cell_type": "code",
   "execution_count": 5,
   "metadata": {},
   "outputs": [],
   "source": [
    "from utils import read_lines\n",
    "\n",
    "def parse_input(input_file):\n",
    "    lines = read_lines(input_file)\n",
    "    i = 0\n",
    "    coords = set()\n",
    "    folds = []\n",
    "    while i < len(lines):\n",
    "        if lines[i]:\n",
    "            x, y = lines[i].split(',')\n",
    "            coords.add((int(x), int(y)))\n",
    "            i += 1\n",
    "        else:\n",
    "            i += 1\n",
    "            break\n",
    "    for line in lines[i:]:\n",
    "        axis, pos = line.split('=')\n",
    "        folds.append((axis[-1], int(pos)))\n",
    "    return coords, folds\n",
    "\n",
    "\n",
    "def fold_once(coords, fold):\n",
    "    new_coords = set()\n",
    "    axis, pos = fold\n",
    "    if axis == 'x':\n",
    "        for x, y in coords:\n",
    "            if x < pos:\n",
    "                new_coords.add((x, y))\n",
    "            elif x > pos:\n",
    "                new_coords.add((2 * pos - x, y))\n",
    "            else:\n",
    "                raise ValueError(f'coord ({x}, {y}) on fold x: {pos}')\n",
    "    else:\n",
    "        for x, y in coords:\n",
    "            if y < pos:\n",
    "                new_coords.add((x, y))\n",
    "            elif y > pos:\n",
    "                new_coords.add((x, 2 * pos - y))\n",
    "            else:\n",
    "                raise ValueError(f'coord ({x}, {y}) on fold y: {pos}')\n",
    "    return new_coords\n",
    "\n",
    "def part1(input_file):\n",
    "    coords, folds = parse_input(input_file)\n",
    "    new_coords = fold_once(coords, folds[0])\n",
    "    return len(new_coords)\n",
    "\n",
    "def part2(input_file):\n",
    "    coords, folds = parse_input(input_file)\n",
    "    for fold in folds:\n",
    "        coords = fold_once(coords, fold)\n",
    "    max_x = max(c[0] for c in coords)\n",
    "    max_y = max(c[1] for c in coords)\n",
    "    matrix = [['.'] * (max_x + 1) for _ in range(max_y + 1)]\n",
    "    for x, y in coords:\n",
    "        matrix[y][x] = '#'\n",
    "\n",
    "    for row in matrix:\n",
    "        print(''.join(row))"
   ]
  },
  {
   "cell_type": "code",
   "execution_count": 4,
   "metadata": {},
   "outputs": [
    {
     "data": {
      "text/plain": [
       "684"
      ]
     },
     "execution_count": 4,
     "metadata": {},
     "output_type": "execute_result"
    }
   ],
   "source": [
    "part1('inputs/day13.txt')"
   ]
  },
  {
   "cell_type": "code",
   "execution_count": 6,
   "metadata": {},
   "outputs": [
    {
     "name": "stdout",
     "output_type": "stream",
     "text": [
      "..##.###..####.###..#.....##..#..#.#..#\n",
      "...#.#..#....#.#..#.#....#..#.#.#..#..#\n",
      "...#.#..#...#..###..#....#....##...####\n",
      "...#.###...#...#..#.#....#.##.#.#..#..#\n",
      "#..#.#.#..#....#..#.#....#..#.#.#..#..#\n",
      ".##..#..#.####.###..####..###.#..#.#..#\n"
     ]
    }
   ],
   "source": [
    "part2('inputs/day13.txt')"
   ]
  },
  {
   "cell_type": "code",
   "execution_count": null,
   "metadata": {},
   "outputs": [],
   "source": []
  }
 ],
 "metadata": {
  "kernelspec": {
   "display_name": "Test",
   "language": "python",
   "name": "python3"
  },
  "language_info": {
   "codemirror_mode": {
    "name": "ipython",
    "version": 3
   },
   "file_extension": ".py",
   "mimetype": "text/x-python",
   "name": "python",
   "nbconvert_exporter": "python",
   "pygments_lexer": "ipython3",
   "version": "3.12.2"
  }
 },
 "nbformat": 4,
 "nbformat_minor": 2
}
