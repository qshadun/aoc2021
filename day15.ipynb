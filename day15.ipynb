{
 "cells": [
  {
   "cell_type": "code",
   "execution_count": 10,
   "metadata": {},
   "outputs": [],
   "source": [
    "from utils import read_lines\n",
    "from collections import deque\n",
    "import heapq\n",
    "\n",
    "def parse_input(input_file):\n",
    "    matrix = []\n",
    "    for line in read_lines(input_file):\n",
    "        row = [int(x) for x in line]\n",
    "        matrix.append(row)\n",
    "    return matrix\n",
    "\n",
    "deltas = [[-1, 0], [1, 0], [0, -1], [0, 1]]\n",
    "\n",
    "def neighbors(i, j, m, n):\n",
    "    ans = []\n",
    "    for di, dj in deltas:\n",
    "        ni, nj = i + di, j + dj\n",
    "        if 0 <= ni < m and 0 <= nj < n:\n",
    "            ans.append([ni, nj])\n",
    "    return ans\n",
    "\n",
    "def shortest_path(matrix):\n",
    "    m = len(matrix)\n",
    "    n = len(matrix[0])\n",
    "    dists = [[float('inf')] * n for _ in range(m)]\n",
    "    hp = [(0, 0, 0)]\n",
    "    while hp:\n",
    "        dist, i, j = heapq.heappop(hp)\n",
    "        if dist >= dists[i][j]:\n",
    "            continue\n",
    "        if i == m - 1 and j == n - 1:\n",
    "            return dist\n",
    "        dists[i][j] = dist\n",
    "        for ni, nj in neighbors(i, j, m, n):\n",
    "            n_dist = dist + matrix[ni][nj]\n",
    "            if n_dist < dists[ni][nj]:\n",
    "                heapq.heappush(hp, (n_dist, ni, nj))\n",
    "\n",
    "def part1(input_file):\n",
    "    matrix = parse_input(input_file)\n",
    "    return shortest_path(matrix)\n",
    "\n",
    "def part2(input_file):\n",
    "    matrix = parse_input(input_file)\n",
    "    m = len(matrix)\n",
    "    n = len(matrix[0])\n",
    "    new_matrix = [[0] * (5 * n) for _ in range(5 * m)]\n",
    "    for i in range(len(new_matrix)):\n",
    "        for j in range(len(new_matrix[0])):\n",
    "            orig = matrix[i%m][j%n]\n",
    "            orig += i // m + j // n\n",
    "            new_matrix[i][j] = (orig - 1) % 9 + 1\n",
    "    return shortest_path(new_matrix)"
   ]
  },
  {
   "cell_type": "code",
   "execution_count": 7,
   "metadata": {},
   "outputs": [
    {
     "data": {
      "text/plain": [
       "698"
      ]
     },
     "execution_count": 7,
     "metadata": {},
     "output_type": "execute_result"
    }
   ],
   "source": [
    "part1('inputs/day15.txt')"
   ]
  },
  {
   "cell_type": "code",
   "execution_count": 12,
   "metadata": {},
   "outputs": [
    {
     "data": {
      "text/plain": [
       "3022"
      ]
     },
     "execution_count": 12,
     "metadata": {},
     "output_type": "execute_result"
    }
   ],
   "source": [
    "part2('inputs/day15.txt')"
   ]
  },
  {
   "cell_type": "code",
   "execution_count": null,
   "metadata": {},
   "outputs": [],
   "source": []
  }
 ],
 "metadata": {
  "kernelspec": {
   "display_name": "Test",
   "language": "python",
   "name": "python3"
  },
  "language_info": {
   "codemirror_mode": {
    "name": "ipython",
    "version": 3
   },
   "file_extension": ".py",
   "mimetype": "text/x-python",
   "name": "python",
   "nbconvert_exporter": "python",
   "pygments_lexer": "ipython3",
   "version": "3.12.2"
  }
 },
 "nbformat": 4,
 "nbformat_minor": 2
}
