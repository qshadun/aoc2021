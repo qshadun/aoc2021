{
 "cells": [
  {
   "cell_type": "code",
   "execution_count": 4,
   "metadata": {},
   "outputs": [],
   "source": [
    "from utils import read_lines\n",
    "\n",
    "def parse_input(input_file):\n",
    "    ans = []\n",
    "    for line in read_lines(input_file):\n",
    "        ans.append([c for c in line])\n",
    "    return ans\n",
    "\n",
    "def part1(input_file):\n",
    "    matrix = parse_input(input_file)\n",
    "    m, n = len(matrix), len(matrix[0])\n",
    "    moved = True\n",
    "    rounds = 0\n",
    "    while moved:\n",
    "        rounds += 1\n",
    "        moved = False\n",
    "        east_move = []\n",
    "        for i in range(m):\n",
    "            for j in range(n):\n",
    "                if matrix[i][j] == '>' and matrix[i][(j+1)%n] == '.':\n",
    "                    east_move.append([i, j])\n",
    "        for i, j in east_move:\n",
    "            matrix[i][j] = '.'\n",
    "            matrix[i][(j+1)%n] = '>'\n",
    "\n",
    "        south_move = []\n",
    "        for i in range(m):\n",
    "            for j in range(n):\n",
    "                if matrix[i][j] == 'v' and matrix[(i + 1)%m][j] == '.':\n",
    "                    south_move.append([i, j])\n",
    "        for i, j in south_move:\n",
    "            matrix[i][j] = '.'\n",
    "            matrix[(i + 1)%m][j] = 'v'\n",
    "        moved = east_move or south_move\n",
    "    return rounds"
   ]
  },
  {
   "cell_type": "code",
   "execution_count": 5,
   "metadata": {},
   "outputs": [
    {
     "data": {
      "text/plain": [
       "58"
      ]
     },
     "execution_count": 5,
     "metadata": {},
     "output_type": "execute_result"
    }
   ],
   "source": [
    "part1('inputs/day25_test.txt')"
   ]
  },
  {
   "cell_type": "code",
   "execution_count": 6,
   "metadata": {},
   "outputs": [
    {
     "data": {
      "text/plain": [
       "557"
      ]
     },
     "execution_count": 6,
     "metadata": {},
     "output_type": "execute_result"
    }
   ],
   "source": [
    "part1('inputs/day25.txt')"
   ]
  },
  {
   "cell_type": "code",
   "execution_count": null,
   "metadata": {},
   "outputs": [],
   "source": []
  }
 ],
 "metadata": {
  "kernelspec": {
   "display_name": "Test",
   "language": "python",
   "name": "python3"
  },
  "language_info": {
   "codemirror_mode": {
    "name": "ipython",
    "version": 3
   },
   "file_extension": ".py",
   "mimetype": "text/x-python",
   "name": "python",
   "nbconvert_exporter": "python",
   "pygments_lexer": "ipython3",
   "version": "3.12.2"
  }
 },
 "nbformat": 4,
 "nbformat_minor": 2
}
