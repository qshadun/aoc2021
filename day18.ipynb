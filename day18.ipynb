{
 "cells": [
  {
   "cell_type": "code",
   "execution_count": 118,
   "metadata": {},
   "outputs": [],
   "source": [
    "class Snail:\n",
    "    def __init__(self, left=None, right=None, parent=None):\n",
    "        self.left = left\n",
    "        self.right = right\n",
    "        self.parent = parent\n",
    "    \n",
    "    def __repr__(self):\n",
    "        return f'[{self.left},{self.right}]'\n",
    "\n",
    "    def __add__(self, other):\n",
    "        ans = Snail(self, other)\n",
    "        self.parent = ans\n",
    "        other.parent = ans\n",
    "        ans.reduce()\n",
    "        return ans\n",
    "    \n",
    "    def __eq__(self, value: object) -> bool:\n",
    "        return isinstance(value, Snail) and self.left == value.left and self.right == value.right\n",
    "    \n",
    "    def is_left(self) -> bool:\n",
    "        return self.parent and self.parent.left is self\n",
    "    \n",
    "    def is_right(self) -> bool:\n",
    "        return self.parent and self.parent.right is self\n",
    "    \n",
    "    def incr_left_most_child(self, value):\n",
    "        cur = self\n",
    "        while isinstance(cur.left, Snail):\n",
    "            cur = cur.left\n",
    "        cur.left += value\n",
    "    \n",
    "    def incr_right_most_child(self, value):\n",
    "        cur = self\n",
    "        while isinstance(cur.right, Snail):\n",
    "            cur = cur.right\n",
    "        cur.right += value\n",
    "\n",
    "    def explode(self, level) -> bool:\n",
    "        \n",
    "        if level >= 4 and isinstance(self.left, int) and isinstance(self.right, int):\n",
    "            le, ri = self.left, self.right\n",
    "            if self.is_left():\n",
    "                p = self.parent\n",
    "                while p.is_left():\n",
    "                    p = p.parent\n",
    "                if p.parent:\n",
    "                    if isinstance(p.parent.left, Snail):\n",
    "                        p.parent.left.incr_right_most_child(le)\n",
    "                    else:\n",
    "                        p.parent.left += le\n",
    "                if isinstance(self.parent.right, Snail):\n",
    "                    self.parent.right.incr_left_most_child(ri)\n",
    "                else:\n",
    "                    self.parent.right += ri\n",
    "                self.parent.left = 0\n",
    "            else:\n",
    "                if isinstance(self.parent.left, Snail):\n",
    "                    self.parent.left.incr_right_most_child(le)\n",
    "                else:\n",
    "                    self.parent.left += le\n",
    "                p = self.parent\n",
    "                while p.is_right():\n",
    "                    p = p.parent\n",
    "                if p.parent:\n",
    "                    if isinstance(p.parent.right, Snail):\n",
    "                        p.parent.right.incr_left_most_child(ri)\n",
    "                    else:\n",
    "                        p.parent.right += ri\n",
    "                self.parent.right = 0\n",
    "            return True\n",
    "        else:\n",
    "            return (isinstance(self.left, Snail) and self.left.explode(level + 1)) or (isinstance(self.right, Snail) and self.right.explode(level + 1))\n",
    "\n",
    "    \n",
    "    def split_number(self, num):\n",
    "        left = num // 2\n",
    "        right = num - left\n",
    "        return Snail(left=left, right=right, parent=self)\n",
    "    \n",
    "    def split(self) -> bool:\n",
    "        if isinstance(self.left, int) and self.left > 9:\n",
    "            self.left = self.split_number(self.left)\n",
    "            return True\n",
    "        elif (isinstance(self.left, Snail) and self.left.split()):\n",
    "            return True\n",
    "        elif isinstance(self.right, int) and self.right > 9:\n",
    "            self.right = self.split_number(self.right)\n",
    "            return True\n",
    "        elif (isinstance(self.right, Snail) and self.right.split()):\n",
    "            return True\n",
    "        else:\n",
    "            return False\n",
    "\n",
    "    def reduce(self):\n",
    "        # print(self)\n",
    "        while self.explode(0) or self.split():\n",
    "            # print(self)\n",
    "            pass\n",
    "        return self\n",
    "    \n",
    "    def magnitude(self):\n",
    "        if isinstance(self.left, int):\n",
    "            le = self.left\n",
    "        else:\n",
    "            le = self.left.magnitude()\n",
    "        if isinstance(self.right, int):\n",
    "            ri = self.right\n",
    "        else:\n",
    "            ri = self.right.magnitude()\n",
    "        return le * 3 + ri * 2\n",
    "\n",
    "def parse_snail(s):\n",
    "    dummy = Snail()\n",
    "    cur =  dummy\n",
    "    for c in s:\n",
    "        if c == '[':\n",
    "            new_snail = Snail(parent=cur)\n",
    "            if cur.left is not None:\n",
    "                cur.right = new_snail\n",
    "            else:\n",
    "                cur.left = new_snail\n",
    "            cur = new_snail\n",
    "        elif c == ',':\n",
    "            continue\n",
    "        elif c == ']':\n",
    "            cur = cur.parent\n",
    "        else:\n",
    "            num = int(c)\n",
    "            if cur.left is not None:\n",
    "                cur.right = num\n",
    "            else:\n",
    "                cur.left = num\n",
    "    dummy.left.parent = None\n",
    "    return dummy.left\n",
    "\n",
    "def sum_lines(lines):\n",
    "    ans = parse_snail(lines[0])\n",
    "    for line in lines[1:]:\n",
    "        ans += parse_snail(line)\n",
    "    return ans\n",
    "\n",
    "from utils import read_lines\n",
    "\n",
    "def part1(input_file):\n",
    "    lines = read_lines(input_file)\n",
    "    sn = sum_lines(lines)\n",
    "    return sn.magnitude()\n",
    "\n",
    "def part2(input_file):\n",
    "    lines = read_lines(input_file)\n",
    "    ans = 0\n",
    "    for i in range(len(lines)):\n",
    "        for j in range(len(lines)):\n",
    "            if i != j:\n",
    "                s1 = parse_snail(lines[i])\n",
    "                s2 = parse_snail(lines[j])\n",
    "                ans = max(ans, (s1 + s2).magnitude())\n",
    "    return ans"
   ]
  },
  {
   "cell_type": "code",
   "execution_count": 110,
   "metadata": {},
   "outputs": [
    {
     "data": {
      "text/plain": [
       "4057"
      ]
     },
     "execution_count": 110,
     "metadata": {},
     "output_type": "execute_result"
    }
   ],
   "source": [
    "part1('inputs/day18.txt')"
   ]
  },
  {
   "cell_type": "code",
   "execution_count": 119,
   "metadata": {},
   "outputs": [
    {
     "data": {
      "text/plain": [
       "4683"
      ]
     },
     "execution_count": 119,
     "metadata": {},
     "output_type": "execute_result"
    }
   ],
   "source": [
    "part2('inputs/day18.txt')"
   ]
  },
  {
   "cell_type": "code",
   "execution_count": 109,
   "metadata": {},
   "outputs": [],
   "source": [
    "assert parse_snail('[[[[[9,8],1],2],3],4]').reduce() == parse_snail('[[[[0,9],2],3],4]')\n",
    "assert parse_snail('[7,[6,[5,[4,[3,2]]]]]').reduce() == parse_snail('[7,[6,[5,[7,0]]]]')\n",
    "assert parse_snail('[[6,[5,[4,[3,2]]]],1]').reduce() == parse_snail('[[6,[5,[7,0]]],3]')\n",
    "assert parse_snail('[[3,[2,[1,[7,3]]]],[6,[5,[4,[3,2]]]]]').reduce() == parse_snail('[[3,[2,[8,0]]],[9,[5,[7,0]]]]]')\n",
    "assert parse_snail('[[3,[2,[8,0]]],[9,[5,[4,[3,2]]]]]').reduce() == parse_snail('[[3,[2,[8,0]]],[9,[5,[7,0]]]]')"
   ]
  },
  {
   "cell_type": "code",
   "execution_count": 108,
   "metadata": {},
   "outputs": [],
   "source": [
    "ss = \"\"\"  [[[0,[4,5]],[0,0]],[[[4,5],[2,6]],[9,5]]]\n",
    "+ [7,[[[3,7],[4,3]],[[6,3],[8,8]]]]\n",
    "= [[[[4,0],[5,4]],[[7,7],[6,0]]],[[8,[7,7]],[[7,9],[5,0]]]]\n",
    "\n",
    "  [[[[4,0],[5,4]],[[7,7],[6,0]]],[[8,[7,7]],[[7,9],[5,0]]]]\n",
    "+ [[2,[[0,8],[3,4]]],[[[6,7],1],[7,[1,6]]]]\n",
    "= [[[[6,7],[6,7]],[[7,7],[0,7]]],[[[8,7],[7,7]],[[8,8],[8,0]]]]\n",
    "\n",
    "  [[[[6,7],[6,7]],[[7,7],[0,7]]],[[[8,7],[7,7]],[[8,8],[8,0]]]]\n",
    "+ [[[[2,4],7],[6,[0,5]]],[[[6,8],[2,8]],[[2,1],[4,5]]]]\n",
    "= [[[[7,0],[7,7]],[[7,7],[7,8]]],[[[7,7],[8,8]],[[7,7],[8,7]]]]\n",
    "\n",
    "  [[[[7,0],[7,7]],[[7,7],[7,8]]],[[[7,7],[8,8]],[[7,7],[8,7]]]]\n",
    "+ [7,[5,[[3,8],[1,4]]]]\n",
    "= [[[[7,7],[7,8]],[[9,5],[8,7]]],[[[6,8],[0,8]],[[9,9],[9,0]]]]\n",
    "\n",
    "  [[[[7,7],[7,8]],[[9,5],[8,7]]],[[[6,8],[0,8]],[[9,9],[9,0]]]]\n",
    "+ [[2,[2,2]],[8,[8,1]]]\n",
    "= [[[[6,6],[6,6]],[[6,0],[6,7]]],[[[7,7],[8,9]],[8,[8,1]]]]\n",
    "\n",
    "  [[[[6,6],[6,6]],[[6,0],[6,7]]],[[[7,7],[8,9]],[8,[8,1]]]]\n",
    "+ [2,9]\n",
    "= [[[[6,6],[7,7]],[[0,7],[7,7]]],[[[5,5],[5,6]],9]]\n",
    "\n",
    "  [[[[6,6],[7,7]],[[0,7],[7,7]]],[[[5,5],[5,6]],9]]\n",
    "+ [1,[[[9,3],9],[[9,0],[0,7]]]]\n",
    "= [[[[7,8],[6,7]],[[6,8],[0,8]]],[[[7,7],[5,0]],[[5,5],[5,6]]]]\n",
    "\n",
    "  [[[[7,8],[6,7]],[[6,8],[0,8]]],[[[7,7],[5,0]],[[5,5],[5,6]]]]\n",
    "+ [[[5,[7,4]],7],1]\n",
    "= [[[[7,7],[7,7]],[[8,7],[8,7]]],[[[7,0],[7,7]],9]]\n",
    "\n",
    "  [[[[7,7],[7,7]],[[8,7],[8,7]]],[[[7,0],[7,7]],9]]\n",
    "+ [[[[4,2],2],6],[8,7]]\n",
    "= [[[[8,7],[7,7]],[[8,6],[7,7]]],[[[0,7],[6,6]],[8,7]]]\n",
    "\"\"\"\n",
    "\n",
    "def check_all(s):\n",
    "    lines = s.split('\\n')\n",
    "    for i in range(0, len(lines), 4):\n",
    "        s1 = parse_snail(lines[i][2:])\n",
    "        s2 = parse_snail(lines[i + 1][2:])\n",
    "        s3 = parse_snail(lines[i + 2][2:])\n",
    "        s_sum = s1 + s2\n",
    "        if s_sum != s3:\n",
    "            print(lines[i][2:])\n",
    "            print(lines[i + 1][2:])\n",
    "            print(lines[i + 2][2:])\n",
    "            print(s_sum)\n",
    "            print('-----')\n",
    "check_all(ss)"
   ]
  },
  {
   "cell_type": "code",
   "execution_count": 111,
   "metadata": {},
   "outputs": [],
   "source": [
    "example = \"\"\"[1,1]\n",
    "[2,2]\n",
    "[3,3]\n",
    "[4,4]\"\"\"\n",
    "assert sum_lines(example.split('\\n')) == parse_snail('[[[[1,1],[2,2]],[3,3]],[4,4]]')\n",
    "\n",
    "example = \"\"\"[1,1]\n",
    "[2,2]\n",
    "[3,3]\n",
    "[4,4]\n",
    "[5,5]\"\"\"\n",
    "assert sum_lines(example.split('\\n')) == parse_snail('[[[[3,0],[5,3]],[4,4]],[5,5]]')\n",
    "\n",
    "example = \"\"\"[1,1]\n",
    "[2,2]\n",
    "[3,3]\n",
    "[4,4]\n",
    "[5,5]\n",
    "[6,6]\"\"\"\n",
    "assert sum_lines(example.split('\\n')) == parse_snail('[[[[5,0],[7,4]],[5,5]],[6,6]]')\n",
    "\n",
    "example = \"\"\"[[[0,[4,5]],[0,0]],[[[4,5],[2,6]],[9,5]]]\n",
    "[7,[[[3,7],[4,3]],[[6,3],[8,8]]]]\n",
    "[[2,[[0,8],[3,4]]],[[[6,7],1],[7,[1,6]]]]\n",
    "[[[[2,4],7],[6,[0,5]]],[[[6,8],[2,8]],[[2,1],[4,5]]]]\n",
    "[7,[5,[[3,8],[1,4]]]]\n",
    "[[2,[2,2]],[8,[8,1]]]\n",
    "[2,9]\n",
    "[1,[[[9,3],9],[[9,0],[0,7]]]]\n",
    "[[[5,[7,4]],7],1]\n",
    "[[[[4,2],2],6],[8,7]]\"\"\"\n",
    "assert sum_lines(example.split('\\n')) == parse_snail('[[[[8,7],[7,7]],[[8,6],[7,7]]],[[[0,7],[6,6]],[8,7]]]')"
   ]
  },
  {
   "cell_type": "code",
   "execution_count": 112,
   "metadata": {},
   "outputs": [
    {
     "data": {
      "text/plain": [
       "[[[[8,7],[7,7]],[[8,6],[7,7]]],[[[0,7],[6,6]],[8,7]]]"
      ]
     },
     "execution_count": 112,
     "metadata": {},
     "output_type": "execute_result"
    }
   ],
   "source": [
    "example = \"\"\"[[[0,[4,5]],[0,0]],[[[4,5],[2,6]],[9,5]]]\n",
    "[7,[[[3,7],[4,3]],[[6,3],[8,8]]]]\n",
    "[[2,[[0,8],[3,4]]],[[[6,7],1],[7,[1,6]]]]\n",
    "[[[[2,4],7],[6,[0,5]]],[[[6,8],[2,8]],[[2,1],[4,5]]]]\n",
    "[7,[5,[[3,8],[1,4]]]]\n",
    "[[2,[2,2]],[8,[8,1]]]\n",
    "[2,9]\n",
    "[1,[[[9,3],9],[[9,0],[0,7]]]]\n",
    "[[[5,[7,4]],7],1]\n",
    "[[[[4,2],2],6],[8,7]]\"\"\"\n",
    "sum_lines(example.split('\\n'))"
   ]
  },
  {
   "cell_type": "code",
   "execution_count": 116,
   "metadata": {},
   "outputs": [
    {
     "data": {
      "text/plain": [
       "3993"
      ]
     },
     "execution_count": 116,
     "metadata": {},
     "output_type": "execute_result"
    }
   ],
   "source": [
    "example = \"\"\"[[[0,[5,8]],[[1,7],[9,6]]],[[4,[1,2]],[[1,4],2]]]\n",
    "[[[5,[2,8]],4],[5,[[9,9],0]]]\n",
    "[6,[[[6,2],[5,6]],[[7,6],[4,7]]]]\n",
    "[[[6,[0,7]],[0,9]],[4,[9,[9,0]]]]\n",
    "[[[7,[6,4]],[3,[1,3]]],[[[5,5],1],9]]\n",
    "[[6,[[7,3],[3,2]]],[[[3,8],[5,7]],4]]\n",
    "[[[[5,4],[7,7]],8],[[8,3],8]]\n",
    "[[9,3],[[9,9],[6,[4,9]]]]\n",
    "[[2,[[7,7],7]],[[5,8],[[9,3],[0,2]]]]\n",
    "[[[[5,2],5],[8,[3,7]]],[[5,[7,5]],[4,4]]]\"\"\"\n",
    "\n",
    "lines = example.split('\\n')\n",
    "ans = 0\n",
    "for i in range(len(lines)):\n",
    "    for j in range(len(lines)):\n",
    "        if i != j:\n",
    "            s1 = parse_snail(lines[i])\n",
    "            s2 = parse_snail(lines[j])\n",
    "            ans = max(ans, (s1 + s2).magnitude())\n",
    "ans"
   ]
  },
  {
   "cell_type": "code",
   "execution_count": 66,
   "metadata": {},
   "outputs": [
    {
     "name": "stdout",
     "output_type": "stream",
     "text": [
      "[[[[6,6],[6,7]],[[7,7],[7,7]]],[[[7,7],[8,7]],[[9,7],[0,7]]]]\n",
      "4126\n"
     ]
    }
   ],
   "source": [
    "example = \"\"\"[[[0,[5,8]],[[1,7],[9,6]]],[[4,[1,2]],[[1,4],2]]]\n",
    "[[[5,[2,8]],4],[5,[[9,9],0]]]\n",
    "[6,[[[6,2],[5,6]],[[7,6],[4,7]]]]\n",
    "[[[6,[0,7]],[0,9]],[4,[9,[9,0]]]]\n",
    "[[[7,[6,4]],[3,[1,3]]],[[[5,5],1],9]]\n",
    "[[6,[[7,3],[3,2]]],[[[3,8],[5,7]],4]]\n",
    "[[[[5,4],[7,7]],8],[[8,3],8]]\n",
    "[[9,3],[[9,9],[6,[4,9]]]]\n",
    "[[2,[[7,7],7]],[[5,8],[[9,3],[0,2]]]]\n",
    "[[[[5,2],5],[8,[3,7]]],[[5,[7,5]],[4,4]]]\"\"\"\n",
    "s = sum_lines(example.split('\\n'))\n",
    "print(s)\n",
    "print(s.magnitude())"
   ]
  },
  {
   "cell_type": "code",
   "execution_count": 114,
   "metadata": {},
   "outputs": [],
   "source": [
    "assert parse_snail('[[[[8,7],[7,7]],[[8,6],[7,7]]],[[[0,7],[6,6]],[8,7]]]').magnitude() == 3488"
   ]
  },
  {
   "cell_type": "code",
   "execution_count": null,
   "metadata": {},
   "outputs": [],
   "source": []
  }
 ],
 "metadata": {
  "kernelspec": {
   "display_name": "Test",
   "language": "python",
   "name": "python3"
  },
  "language_info": {
   "codemirror_mode": {
    "name": "ipython",
    "version": 3
   },
   "file_extension": ".py",
   "mimetype": "text/x-python",
   "name": "python",
   "nbconvert_exporter": "python",
   "pygments_lexer": "ipython3",
   "version": "3.12.2"
  }
 },
 "nbformat": 4,
 "nbformat_minor": 2
}
