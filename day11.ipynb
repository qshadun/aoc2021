{
 "cells": [
  {
   "cell_type": "code",
   "execution_count": 9,
   "metadata": {},
   "outputs": [],
   "source": [
    "from utils import read_lines\n",
    "from collections import deque\n",
    "\n",
    "deltas = [[-1, -1], [-1, 0], [-1, 1], [0, -1], [0, 1], [1, -1], [1, 0], [1, 1]]\n",
    "\n",
    "def neighbors(matrix, i, j):\n",
    "    ans = []\n",
    "    for di, dj in deltas:\n",
    "        ni, nj = i + di, j + dj\n",
    "        if 0 <= ni < len(matrix) and 0 <= nj < len(matrix[0]):\n",
    "            ans.append((ni, nj))\n",
    "    return ans\n",
    "\n",
    "def parse_input(input_file):\n",
    "    matrix = []\n",
    "    for line in read_lines(input_file):\n",
    "        matrix.append([int(c) for c in line])\n",
    "    return matrix\n",
    "\n",
    "def one_round(matrix):\n",
    "    m = len(matrix)\n",
    "    n = len(matrix[0])\n",
    "    flashed = set()\n",
    "    q = deque()\n",
    "    for i in range(m):\n",
    "        for j in range(n):\n",
    "            matrix[i][j] += 1\n",
    "            if matrix[i][j] > 9:\n",
    "                q.append((i, j))\n",
    "    while q:\n",
    "        i, j = q.popleft()\n",
    "        if (i, j) in flashed:\n",
    "            continue\n",
    "        flashed.add((i, j))\n",
    "        for ni, nj in neighbors(matrix, i, j):\n",
    "            matrix[ni][nj] += 1\n",
    "            if matrix[ni][nj] > 9 and matrix[ni][nj] not in flashed:\n",
    "                q.append((ni, nj))\n",
    "    for i, j in flashed:\n",
    "        matrix[i][j] = 0\n",
    "    return len(flashed)\n",
    "\n",
    "def part1(input_file):\n",
    "    matrix = parse_input(input_file)\n",
    "    ans = 0\n",
    "    for i in range(100):\n",
    "        ans += one_round(matrix)\n",
    "    return ans\n",
    "\n",
    "def part2(input_file):\n",
    "    matrix = parse_input(input_file)\n",
    "    ans = 0\n",
    "    while True:\n",
    "        ans += 1\n",
    "        if one_round(matrix) == len(matrix) * len(matrix[0]):\n",
    "            break\n",
    "    return ans"
   ]
  },
  {
   "cell_type": "code",
   "execution_count": 5,
   "metadata": {},
   "outputs": [
    {
     "data": {
      "text/plain": [
       "1723"
      ]
     },
     "execution_count": 5,
     "metadata": {},
     "output_type": "execute_result"
    }
   ],
   "source": [
    "part1('inputs/day11.txt')"
   ]
  },
  {
   "cell_type": "code",
   "execution_count": 11,
   "metadata": {},
   "outputs": [
    {
     "data": {
      "text/plain": [
       "327"
      ]
     },
     "execution_count": 11,
     "metadata": {},
     "output_type": "execute_result"
    }
   ],
   "source": [
    "part2('inputs/day11.txt')"
   ]
  },
  {
   "cell_type": "code",
   "execution_count": null,
   "metadata": {},
   "outputs": [],
   "source": []
  }
 ],
 "metadata": {
  "kernelspec": {
   "display_name": "Test",
   "language": "python",
   "name": "python3"
  },
  "language_info": {
   "codemirror_mode": {
    "name": "ipython",
    "version": 3
   },
   "file_extension": ".py",
   "mimetype": "text/x-python",
   "name": "python",
   "nbconvert_exporter": "python",
   "pygments_lexer": "ipython3",
   "version": "3.12.2"
  }
 },
 "nbformat": 4,
 "nbformat_minor": 2
}
