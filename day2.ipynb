{
 "cells": [
  {
   "cell_type": "code",
   "execution_count": 1,
   "metadata": {},
   "outputs": [
    {
     "name": "stdout",
     "output_type": "stream",
     "text": [
      "1813801\n"
     ]
    }
   ],
   "source": [
    "from utils import read_lines\n",
    "\n",
    "lines = read_lines('inputs/day2.txt')\n",
    "\n",
    "ho = 0\n",
    "dp = 0\n",
    "\n",
    "for line in lines:\n",
    "    cmd, amt = line.split(' ')\n",
    "    amt = int(amt)\n",
    "    if cmd == 'forward':\n",
    "        ho += amt\n",
    "    elif cmd == 'down':\n",
    "        dp += amt\n",
    "    elif cmd == 'up':\n",
    "        dp -= amt\n",
    "    else:\n",
    "        raise ValueError(f'unkonw command {line}')\n",
    "print(ho * dp)"
   ]
  },
  {
   "cell_type": "code",
   "execution_count": 2,
   "metadata": {},
   "outputs": [
    {
     "name": "stdout",
     "output_type": "stream",
     "text": [
      "1960569556\n"
     ]
    }
   ],
   "source": [
    "ho = 0\n",
    "dp = 0\n",
    "aim = 0\n",
    "\n",
    "for line in lines:\n",
    "    cmd, amt = line.split(' ')\n",
    "    amt = int(amt)\n",
    "    if cmd == 'forward':\n",
    "        ho += amt\n",
    "        dp += amt * aim\n",
    "    elif cmd == 'down':\n",
    "        aim += amt\n",
    "    elif cmd == 'up':\n",
    "        aim -= amt\n",
    "    else:\n",
    "        raise ValueError(f'unkonw command {line}')\n",
    "print(ho * dp)"
   ]
  },
  {
   "cell_type": "code",
   "execution_count": null,
   "metadata": {},
   "outputs": [],
   "source": []
  }
 ],
 "metadata": {
  "kernelspec": {
   "display_name": "Test",
   "language": "python",
   "name": "python3"
  },
  "language_info": {
   "codemirror_mode": {
    "name": "ipython",
    "version": 3
   },
   "file_extension": ".py",
   "mimetype": "text/x-python",
   "name": "python",
   "nbconvert_exporter": "python",
   "pygments_lexer": "ipython3",
   "version": "3.12.2"
  }
 },
 "nbformat": 4,
 "nbformat_minor": 2
}
