{
 "cells": [
  {
   "cell_type": "code",
   "execution_count": 33,
   "metadata": {},
   "outputs": [],
   "source": [
    "import re\n",
    "from utils import read_lines\n",
    "\n",
    "reg = re.compile(r'(\\w+) x=(-?\\d+)..(-?\\d+),y=(-?\\d+)..(-?\\d+),z=(-?\\d+)..(-?\\d+)')\n",
    "def parse_line(line):\n",
    "    m = re.match(reg, line)\n",
    "    return m.group(1), [[int(m.group(2)), int(m.group(3))], [int(m.group(4)), int(m.group(5))], [int(m.group(6)), int(m.group(7))]]\n",
    "\n",
    "def parse_input(input_file):\n",
    "    return [parse_line(line) for line in read_lines(input_file)]\n",
    "\n",
    "def part1(input_file):\n",
    "    commands = parse_input(input_file)\n",
    "    matrix = [[[0] * 101 for _ in range(101)] for _ in range(101)]\n",
    "    for cmd, [[x1, x2], [y1, y2], [z1, z2]] in commands:\n",
    "        if x1 < -50 or x1 > 50:\n",
    "            break\n",
    "        v = 1 if cmd == 'on' else 0\n",
    "\n",
    "        for x in range(x1 + 50, x2 + 51):\n",
    "            for y in range(y1 + 50, y2 + 51):\n",
    "                for z in range(z1 + 50, z2 + 51):\n",
    "                    matrix[x][y][z] = v\n",
    "    return sum(sum(sum(z) for z in yz) for yz in matrix)\n",
    "\n",
    "def intersect(low, up, low1, up1):\n",
    "    # return (intersect flag, non intersect part(s), intersect part)\n",
    "    if up < low1 or low > up1:\n",
    "        return False, [], []\n",
    "    \n",
    "    ans = []\n",
    "    if low < low1:\n",
    "        ans.append([low, low1 - 1])\n",
    "    if up > up1:\n",
    "        ans.append([up1 + 1, up])\n",
    "    return True, ans, [max(low, low1), min(up, up1)]\n",
    "\n",
    "\n",
    "def cube_subtract(cube1, cube2):\n",
    "    # exclude cube1 and cube2 intersection part from cube1\n",
    "    [[x_low1, x_up1], [y_low1, y_up1], [z_low1, z_up1]] = cube1\n",
    "    [[x_low2, x_up2], [y_low2, y_up2], [z_low2, z_up2]] = cube2\n",
    "    is_x_inter, x_exclude, x_inter = intersect(x_low1, x_up1, x_low2, x_up2)\n",
    "    is_y_inter, y_exclude, y_inter = intersect(y_low1, y_up1, y_low2, y_up2)\n",
    "    is_z_inter, z_exclude, z_inter = intersect(z_low1, z_up1, z_low2, z_up2)\n",
    "    if not (is_x_inter and is_y_inter and is_z_inter):\n",
    "        return [cube1]\n",
    "    ans = []\n",
    "    for x_ex in x_exclude:\n",
    "        ans.append([x_ex, [y_low1, y_up1], [z_low1, z_up1]])\n",
    "    for y_ex in y_exclude:\n",
    "        ans.append([x_inter, y_ex, [z_low1, z_up1]])\n",
    "    for z_ex in z_exclude:\n",
    "        ans.append([x_inter, y_inter, z_ex])\n",
    "    return ans\n",
    "\n",
    "def calc_on_count(cube):\n",
    "    [[x_low, x_up], [y_low, y_up], [z_low, z_up]] = cube\n",
    "    return (x_up - x_low + 1) * (y_up - y_low + 1) * (z_up - z_low + 1)\n",
    "\n",
    "def part2(input_file):\n",
    "    commands = parse_input(input_file)\n",
    "    on_cubes = []\n",
    "    for cmd, cube in commands:\n",
    "        \n",
    "        if cmd == 'on':\n",
    "            remain_cubes = [cube] # substract all current on cubes, the remain will be add to on_cubes\n",
    "            for cube2 in on_cubes:\n",
    "                new_remain_cubes = []\n",
    "                for cube1 in remain_cubes:\n",
    "                    for x in cube_subtract(cube1, cube2):\n",
    "                        new_remain_cubes.append(x)\n",
    "                remain_cubes = new_remain_cubes\n",
    "                if not remain_cubes:\n",
    "                    break\n",
    "            for x in remain_cubes:\n",
    "                on_cubes.append(x)\n",
    "        else:\n",
    "             # each current on_cubes substrct off cubes, what's left will be in new on_cubes\n",
    "            new_on_cubes = []\n",
    "            for cube1 in on_cubes:\n",
    "                for x in cube_subtract(cube1, cube):\n",
    "                    new_on_cubes.append(x)\n",
    "            on_cubes = new_on_cubes\n",
    "    return sum(calc_on_count(cube) for cube in on_cubes)\n",
    "\n"
   ]
  },
  {
   "cell_type": "code",
   "execution_count": 22,
   "metadata": {},
   "outputs": [
    {
     "data": {
      "text/plain": [
       "590784"
      ]
     },
     "execution_count": 22,
     "metadata": {},
     "output_type": "execute_result"
    }
   ],
   "source": [
    "part1('inputs/day22_test.txt')"
   ]
  },
  {
   "cell_type": "code",
   "execution_count": 23,
   "metadata": {},
   "outputs": [
    {
     "data": {
      "text/plain": [
       "588120"
      ]
     },
     "execution_count": 23,
     "metadata": {},
     "output_type": "execute_result"
    }
   ],
   "source": [
    "part1('inputs/day22.txt')"
   ]
  },
  {
   "cell_type": "code",
   "execution_count": 34,
   "metadata": {},
   "outputs": [
    {
     "data": {
      "text/plain": [
       "2758514936282235"
      ]
     },
     "execution_count": 34,
     "metadata": {},
     "output_type": "execute_result"
    }
   ],
   "source": [
    "part2('inputs/day22_test2.txt')"
   ]
  },
  {
   "cell_type": "code",
   "execution_count": 35,
   "metadata": {},
   "outputs": [
    {
     "data": {
      "text/plain": [
       "1134088247046731"
      ]
     },
     "execution_count": 35,
     "metadata": {},
     "output_type": "execute_result"
    }
   ],
   "source": [
    "part2('inputs/day22.txt')"
   ]
  },
  {
   "cell_type": "code",
   "execution_count": null,
   "metadata": {},
   "outputs": [],
   "source": []
  }
 ],
 "metadata": {
  "kernelspec": {
   "display_name": "Test",
   "language": "python",
   "name": "python3"
  },
  "language_info": {
   "codemirror_mode": {
    "name": "ipython",
    "version": 3
   },
   "file_extension": ".py",
   "mimetype": "text/x-python",
   "name": "python",
   "nbconvert_exporter": "python",
   "pygments_lexer": "ipython3",
   "version": "3.12.2"
  }
 },
 "nbformat": 4,
 "nbformat_minor": 2
}
