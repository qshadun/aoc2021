{
 "cells": [
  {
   "cell_type": "code",
   "execution_count": 32,
   "metadata": {},
   "outputs": [],
   "source": [
    "from utils import read_lines\n",
    "from itertools import permutations\n",
    "from collections import deque\n",
    "\n",
    "rotations = list(permutations([0,1,2]))\n",
    "signs = [-1, 1]\n",
    "facings = [(x, y, z) for x in signs for y in signs for z in signs]\n",
    "\n",
    "def parse_input(input_file):\n",
    "    lines = read_lines(input_file)\n",
    "    ans = []\n",
    "    cur = []\n",
    "    for line in lines:\n",
    "        if not line:\n",
    "            ans.append(cur)\n",
    "            cur = []\n",
    "        elif line[0:3] =='---':\n",
    "            continue\n",
    "        else:\n",
    "            nums = [int(x) for x in line.split(',')]\n",
    "            cur.append(tuple(nums))\n",
    "    ans.append(cur)\n",
    "    return ans\n",
    "\n",
    "def transform(beacons, rotation, facing):\n",
    "    i, j, k = rotation\n",
    "    fx, fy, fz = facing\n",
    "    return [(b[i] * fx, b[j] * fy, b[k] * fz) for b in beacons]\n",
    "\n",
    "\n",
    "def is_overlap(beacons1, beacons2):\n",
    "    # return relative position for scanner if have more than 12 same beacon\n",
    "    # fx, fy, fz = facing\n",
    "    for x1, y1, z1 in beacons1:\n",
    "        b1_relatives = {(x - x1, y - y1, z - z1) for x, y, z in beacons1}\n",
    "        for x2, y2, z2 in beacons2:\n",
    "            cnt = 0\n",
    "            for x, y, z in beacons2:\n",
    "                b2_rel = (x - x2, y - y2, z - z2)\n",
    "                if b2_rel in b1_relatives:\n",
    "                    cnt += 1\n",
    "                    if cnt >= 12:\n",
    "                        return x1 - x2, y1 - y2, z1 - z2\n",
    "    return None\n",
    "\n",
    "def is_connect(scaner1, scaner2):\n",
    "    for rotation in rotations:\n",
    "        for facing in facings:\n",
    "            beacons2 = transform(scaner2, rotation, facing)\n",
    "            if rel := is_overlap(scaner1, beacons2):\n",
    "                return rotation, facing, rel\n",
    "    return None\n",
    "\n",
    "def find_conntections(scanners):\n",
    "    n = len(scanners)\n",
    "    visited = {} # index -> (index, relative_coord, rotation, facing)\n",
    "    visited[0] = None\n",
    "    q = deque()\n",
    "    q.append(0)\n",
    "    while q and len(visited) < n:\n",
    "        i = q.popleft()\n",
    "        for j in range(n):\n",
    "            if j in visited:\n",
    "                continue\n",
    "            if conn := is_connect(scanners[i], scanners[j]):\n",
    "                rotation, facing, rel = conn\n",
    "                visited[j] = (i, rel, rotation, facing)\n",
    "                q.append(j)\n",
    "    return visited\n",
    "\n",
    "\n",
    "    \n",
    "def part1(input_file):\n",
    "    scanners = parse_input(input_file)\n",
    "    all_beacons = set()\n",
    "    for b in scanners[0]:\n",
    "        all_beacons.add(b)\n",
    "    connections = find_conntections(scanners)\n",
    "    for i in range(1, len(scanners)):\n",
    "        j = i\n",
    "        beacons = scanners[j]\n",
    "        while j != 0:\n",
    "            j, rel, rotation, facing = connections[j]\n",
    "            beacons = transform(beacons, rotation=rotation, facing=facing)\n",
    "            beacons = [(b[0] + rel[0], b[1] + rel[1], b[2] + rel[2]) for b in beacons]\n",
    "        for b in beacons:\n",
    "            all_beacons.add(b)\n",
    "    return len(all_beacons)\n",
    "\n",
    "def calc_coords(conn):\n",
    "    n = len(conn)\n",
    "    coords = [(0, 0, 0)] * n\n",
    "\n",
    "    for i in range(1, n):\n",
    "        \n",
    "        ci = [0, 0, 0]\n",
    "        j = i\n",
    "        while j != 0:\n",
    "            j, co, rotation, facing = conn[j]\n",
    "            new_ci = [co[0], co[1], co[2]]\n",
    "            for k in range(3):\n",
    "                new_ci[k] += ci[rotation[k]] * facing[k]\n",
    "            ci = new_ci\n",
    "        coords[i] = ci\n",
    "    return coords\n",
    "\n",
    "def manhattan_dist(c1, c2):\n",
    "    ans = 0\n",
    "    for i in range(3):\n",
    "        ans += abs(c1[i] - c2[i])\n",
    "    return ans\n",
    "\n",
    "def part2(input_file):\n",
    "    scanners = parse_input(input_file)\n",
    "    connections = find_conntections(scanners)\n",
    "    coords = calc_coords(connections)\n",
    "    ans = 0\n",
    "    for i in range(len(coords) - 1):\n",
    "        for j in range(i + 1, len(coords)):\n",
    "            ans = max(ans, manhattan_dist(coords[i], coords[j]))\n",
    "    return ans \n"
   ]
  },
  {
   "cell_type": "code",
   "execution_count": 24,
   "metadata": {},
   "outputs": [
    {
     "data": {
      "text/plain": [
       "79"
      ]
     },
     "execution_count": 24,
     "metadata": {},
     "output_type": "execute_result"
    }
   ],
   "source": [
    "part1('inputs/day19_test.txt')"
   ]
  },
  {
   "cell_type": "code",
   "execution_count": 25,
   "metadata": {},
   "outputs": [
    {
     "data": {
      "text/plain": [
       "398"
      ]
     },
     "execution_count": 25,
     "metadata": {},
     "output_type": "execute_result"
    }
   ],
   "source": [
    "part1('inputs/day19.txt')"
   ]
  },
  {
   "cell_type": "code",
   "execution_count": 33,
   "metadata": {},
   "outputs": [
    {
     "data": {
      "text/plain": [
       "3621"
      ]
     },
     "execution_count": 33,
     "metadata": {},
     "output_type": "execute_result"
    }
   ],
   "source": [
    "part2('inputs/day19_test.txt')"
   ]
  },
  {
   "cell_type": "code",
   "execution_count": 34,
   "metadata": {},
   "outputs": [
    {
     "data": {
      "text/plain": [
       "10965"
      ]
     },
     "execution_count": 34,
     "metadata": {},
     "output_type": "execute_result"
    }
   ],
   "source": [
    "part2('inputs/day19.txt')"
   ]
  },
  {
   "cell_type": "code",
   "execution_count": 27,
   "metadata": {},
   "outputs": [
    {
     "data": {
      "text/plain": [
       "{0: None,\n",
       " 1: (0, (68, -1246, -43), (0, 1, 2), (-1, 1, -1)),\n",
       " 3: (1, (160, -1134, -23), (0, 1, 2), (1, 1, 1)),\n",
       " 4: (1, (88, 113, -1104), (1, 2, 0), (1, -1, -1)),\n",
       " 2: (4, (168, -1125, 72), (1, 0, 2), (1, 1, -1))}"
      ]
     },
     "execution_count": 27,
     "metadata": {},
     "output_type": "execute_result"
    }
   ],
   "source": [
    "conn = part2('inputs/day19_test.txt')\n",
    "conn"
   ]
  },
  {
   "cell_type": "code",
   "execution_count": 29,
   "metadata": {},
   "outputs": [
    {
     "data": {
      "text/plain": [
       "[(0, 0, 0),\n",
       " [68, -1246, -43],\n",
       " [1105, -1205, 1229],\n",
       " [-92, -2380, -20],\n",
       " [-20, -1133, 1061]]"
      ]
     },
     "execution_count": 29,
     "metadata": {},
     "output_type": "execute_result"
    }
   ],
   "source": [
    "n = len(conn)\n",
    "coords = [(0, 0, 0)] * n\n",
    "\n",
    "for i in range(1, n):\n",
    "    \n",
    "    ci = [0, 0, 0]\n",
    "    j = i\n",
    "    while j != 0:\n",
    "        j, co, rotation, facing = conn[j]\n",
    "        new_ci = [co[0], co[1], co[2]]\n",
    "        for k in range(3):\n",
    "            new_ci[k] += ci[rotation[k]] * facing[k]\n",
    "        ci = new_ci\n",
    "    coords[i] = ci\n",
    "coords\n"
   ]
  },
  {
   "cell_type": "code",
   "execution_count": null,
   "metadata": {},
   "outputs": [],
   "source": []
  }
 ],
 "metadata": {
  "kernelspec": {
   "display_name": "Test",
   "language": "python",
   "name": "python3"
  },
  "language_info": {
   "codemirror_mode": {
    "name": "ipython",
    "version": 3
   },
   "file_extension": ".py",
   "mimetype": "text/x-python",
   "name": "python",
   "nbconvert_exporter": "python",
   "pygments_lexer": "ipython3",
   "version": "3.12.2"
  }
 },
 "nbformat": 4,
 "nbformat_minor": 2
}
