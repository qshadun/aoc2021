{
 "cells": [
  {
   "cell_type": "code",
   "execution_count": 52,
   "metadata": {},
   "outputs": [],
   "source": [
    "import re\n",
    "\n",
    "test_input = 'target area: x=20..30, y=-10..-5'\n",
    "input = 'target area: x=117..164, y=-140..-89'\n",
    "\n",
    "\n",
    "def parse_target(input_str):\n",
    "    return [int(x) for x in re.findall(r'-?\\d+', input_str)]\n",
    "\n",
    "def can_make(y_low, y_up, vy_init):\n",
    "    vy = vy_init\n",
    "    cur_y = 0\n",
    "    while cur_y >= y_low:\n",
    "        cur_y += vy\n",
    "        vy -= 1\n",
    "        if vy < 0 and y_low <= cur_y <= y_up:\n",
    "            return True\n",
    "    return False\n",
    "\n",
    "def part1(input_str):\n",
    "    x_low, x_up, y_low, y_up = parse_target(input_str)\n",
    "    lo, hi = 1, 1000\n",
    "    while lo <= hi:\n",
    "        mid = (lo + hi) // 2\n",
    "        if can_make(y_low, y_up, mid):\n",
    "            lo = mid + 1\n",
    "        else:\n",
    "            hi = mid - 1\n",
    "    return hi * (hi + 1) // 2\n",
    "\n",
    "def find_vx_low(x_low):\n",
    "    lo, hi = 1, x_low\n",
    "    while lo <= hi:\n",
    "        mid = (lo + hi) // 2\n",
    "        if mid * (mid + 1) // 2 < x_low:\n",
    "            lo += 1\n",
    "        else:\n",
    "            hi -= 1\n",
    "    return lo\n",
    "\n",
    "def find_vy_up(y_low, y_up):\n",
    "    lo, hi = 1, 1000\n",
    "    while lo <= hi:\n",
    "        mid = (lo + hi) // 2\n",
    "        if can_make(y_low, y_up, mid):\n",
    "            lo = mid + 1\n",
    "        else:\n",
    "            hi = mid - 1\n",
    "    return hi\n",
    "\n",
    "def find_max_turn(y_low, y_up):\n",
    "    vy_up = find_vy_up(y_low, y_up)\n",
    "    turn = 0\n",
    "    cur_y = 0\n",
    "    vy = vy_up\n",
    "    while cur_y > y_low:\n",
    "        cur_y += vy\n",
    "        vy -= 1\n",
    "        turn += 1\n",
    "    return turn\n",
    "\n",
    "def find_in_range_turns_x(x_low, x_up, vx_init, in_range_turns):\n",
    "    turn = 0\n",
    "    cur_x = 0\n",
    "    vx = vx_init\n",
    "    while vx > 0 and cur_x <= x_up:\n",
    "        if x_low <= cur_x <= x_up:\n",
    "            in_range_turns[turn].append(vx_init)\n",
    "        cur_x += vx\n",
    "        vx -= 1\n",
    "        turn += 1\n",
    "    if vx == 0 and x_low <= cur_x <= x_up:\n",
    "        for i in range(turn, len(in_range_turns)):\n",
    "            in_range_turns[i].append(vx_init)\n",
    "\n",
    "def find_in_range_turns_y(y_low, y_up, vy_init, in_range_turns):\n",
    "    turn = 0\n",
    "    cur_y = 0\n",
    "    vy = vy_init\n",
    "    while cur_y >= y_low:\n",
    "        if y_low <= cur_y <= y_up:\n",
    "            in_range_turns[turn].append(vy_init)\n",
    "        cur_y += vy\n",
    "        vy -= 1\n",
    "        turn += 1\n",
    "\n",
    "def part2(input_str):\n",
    "    x_low, x_up, y_low, y_up = parse_target(input_str)\n",
    "    vx_init_low = find_vx_low(x_low)\n",
    "    vx_init_up = x_up\n",
    "    vy_init_low= y_low\n",
    "    vy_init_up= find_vy_up(y_low, y_up)\n",
    "    max_turn = find_max_turn(y_low, y_up)\n",
    "    in_range_turns_x_init = [[] for _ in range(max_turn + 1)]\n",
    "    in_range_turns_y_init = [[] for _ in range(max_turn + 1)]\n",
    "    for vx_init in range(vx_init_low, vx_init_up + 1):\n",
    "        find_in_range_turns_x(x_low, x_up, vx_init, in_range_turns_x_init)\n",
    "\n",
    "    for vy_init in range(vy_init_low, vy_init_up + 1):\n",
    "        find_in_range_turns_y(y_low, y_up, vy_init, in_range_turns_y_init)\n",
    "\n",
    "    valid_vx = set()\n",
    "    for i in range(1, max_turn + 1):\n",
    "        for vx in in_range_turns_x_init[i]:\n",
    "            for vy in in_range_turns_y_init[i]:\n",
    "                valid_vx.add((vx, vy))\n",
    "    return len(valid_vx)\n",
    "\n",
    "\n",
    "\n"
   ]
  },
  {
   "cell_type": "code",
   "execution_count": 15,
   "metadata": {},
   "outputs": [
    {
     "data": {
      "text/plain": [
       "9730"
      ]
     },
     "execution_count": 15,
     "metadata": {},
     "output_type": "execute_result"
    }
   ],
   "source": [
    "part1(input)"
   ]
  },
  {
   "cell_type": "code",
   "execution_count": 54,
   "metadata": {},
   "outputs": [
    {
     "data": {
      "text/plain": [
       "4110"
      ]
     },
     "execution_count": 54,
     "metadata": {},
     "output_type": "execute_result"
    }
   ],
   "source": [
    "part2(input)"
   ]
  },
  {
   "cell_type": "code",
   "execution_count": null,
   "metadata": {},
   "outputs": [],
   "source": []
  }
 ],
 "metadata": {
  "kernelspec": {
   "display_name": "Test",
   "language": "python",
   "name": "python3"
  },
  "language_info": {
   "codemirror_mode": {
    "name": "ipython",
    "version": 3
   },
   "file_extension": ".py",
   "mimetype": "text/x-python",
   "name": "python",
   "nbconvert_exporter": "python",
   "pygments_lexer": "ipython3",
   "version": "3.12.2"
  }
 },
 "nbformat": 4,
 "nbformat_minor": 2
}
