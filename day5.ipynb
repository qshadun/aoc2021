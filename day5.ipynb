{
 "cells": [
  {
   "cell_type": "code",
   "execution_count": 13,
   "metadata": {},
   "outputs": [],
   "source": [
    "from utils import read_lines\n",
    "from dataclasses import dataclass\n",
    "import re\n",
    "\n",
    "regex = re.compile(r'(\\d+),(\\d+) -> (\\d+),(\\d+)')\n",
    "\n",
    "@dataclass(frozen=True)\n",
    "class Line:\n",
    "    x1: int\n",
    "    y1: int\n",
    "    x2: int\n",
    "    y2: int\n",
    "\n",
    "def parse_input(input_file):\n",
    "    ans = []\n",
    "    for line in read_lines(input_file):\n",
    "        m = regex.match(line)\n",
    "        nums = [int(m.group(i + 1)) for i in range(4)]\n",
    "        tissue_line = Line(nums[0], nums[1], nums[2], nums[3])\n",
    "        ans.append(tissue_line)\n",
    "    return ans\n",
    "\n",
    "def part1(input_file):\n",
    "    lines = parse_input(input_file)\n",
    "    max_x = max(x for ln in lines for x in (ln.x1, ln.x2))\n",
    "    max_y = max(y for ln in lines for y in (ln.y1, ln.y2))\n",
    "    marker = [[0] * (max_x + 1) for _ in range(max_y + 1)]\n",
    "    for ln in lines:\n",
    "        if ln.x1 == ln.x2:\n",
    "            y1 = min(ln.y1, ln.y2)\n",
    "            y2 = max(ln.y1, ln.y2)\n",
    "            for y in range(y1, y2+1):\n",
    "                marker[y][ln.x1] += 1\n",
    "        elif ln.y1 == ln.y2:\n",
    "            x1, x2 = ln.x1, ln.x2\n",
    "            if x1 > x2:\n",
    "                x1, x2 = x2, x1\n",
    "            for x in range(x1, x2 + 1):\n",
    "                marker[ln.y1][x] += 1\n",
    "    ans = 0\n",
    "    for i in range(len(marker)):\n",
    "        for j in range(len(marker[0])):\n",
    "            if marker[i][j] > 1:\n",
    "                ans += 1\n",
    "    return ans\n",
    "\n",
    "def part2(input_file):\n",
    "    lines = parse_input(input_file)\n",
    "    max_x = max(x for ln in lines for x in (ln.x1, ln.x2))\n",
    "    max_y = max(y for ln in lines for y in (ln.y1, ln.y2))\n",
    "    marker = [[0] * (max_x + 1) for _ in range(max_y + 1)]\n",
    "    for ln in lines:\n",
    "        if ln.x1 == ln.x2:\n",
    "            y1 = min(ln.y1, ln.y2)\n",
    "            y2 = max(ln.y1, ln.y2)\n",
    "            for y in range(y1, y2+1):\n",
    "                marker[y][ln.x1] += 1\n",
    "        elif ln.y1 == ln.y2:\n",
    "            x1, x2 = ln.x1, ln.x2\n",
    "            if x1 > x2:\n",
    "                x1, x2 = x2, x1\n",
    "            for x in range(x1, x2 + 1):\n",
    "                marker[ln.y1][x] += 1\n",
    "        else:\n",
    "            points = abs(ln.x1 - ln.x2)\n",
    "            dx = (ln.x2 - ln.x1) // points\n",
    "            dy = (ln.y2 - ln.y1) // points\n",
    "            x, y = ln.x1, ln.y1\n",
    "            while x != ln.x2 and y != ln.y2:\n",
    "                marker[y][x] += 1\n",
    "                x += dx\n",
    "                y += dy\n",
    "            marker[ln.y2][ln.x2] += 1\n",
    "    ans = 0\n",
    "    for i in range(len(marker)):\n",
    "        for j in range(len(marker[0])):\n",
    "            if marker[i][j] > 1:\n",
    "                ans += 1\n",
    "    return ans"
   ]
  },
  {
   "cell_type": "code",
   "execution_count": 11,
   "metadata": {},
   "outputs": [
    {
     "data": {
      "text/plain": [
       "5"
      ]
     },
     "execution_count": 11,
     "metadata": {},
     "output_type": "execute_result"
    }
   ],
   "source": [
    "part1('inputs/day5_test.txt')"
   ]
  },
  {
   "cell_type": "code",
   "execution_count": 12,
   "metadata": {},
   "outputs": [
    {
     "data": {
      "text/plain": [
       "4421"
      ]
     },
     "execution_count": 12,
     "metadata": {},
     "output_type": "execute_result"
    }
   ],
   "source": [
    "part1('inputs/day5.txt')"
   ]
  },
  {
   "cell_type": "code",
   "execution_count": 14,
   "metadata": {},
   "outputs": [
    {
     "data": {
      "text/plain": [
       "12"
      ]
     },
     "execution_count": 14,
     "metadata": {},
     "output_type": "execute_result"
    }
   ],
   "source": [
    "part2('inputs/day5_test.txt')"
   ]
  },
  {
   "cell_type": "code",
   "execution_count": 15,
   "metadata": {},
   "outputs": [
    {
     "data": {
      "text/plain": [
       "18674"
      ]
     },
     "execution_count": 15,
     "metadata": {},
     "output_type": "execute_result"
    }
   ],
   "source": [
    "part2('inputs/day5.txt')"
   ]
  },
  {
   "cell_type": "code",
   "execution_count": null,
   "metadata": {},
   "outputs": [],
   "source": []
  }
 ],
 "metadata": {
  "kernelspec": {
   "display_name": "Test",
   "language": "python",
   "name": "python3"
  },
  "language_info": {
   "codemirror_mode": {
    "name": "ipython",
    "version": 3
   },
   "file_extension": ".py",
   "mimetype": "text/x-python",
   "name": "python",
   "nbconvert_exporter": "python",
   "pygments_lexer": "ipython3",
   "version": "3.12.2"
  }
 },
 "nbformat": 4,
 "nbformat_minor": 2
}
