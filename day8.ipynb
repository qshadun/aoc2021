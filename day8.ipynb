{
 "cells": [
  {
   "cell_type": "code",
   "execution_count": 36,
   "metadata": {},
   "outputs": [],
   "source": [
    "from utils import read_lines\n",
    "from itertools import permutations\n",
    "\n",
    "normal_segments = ['abcefg', 'cf', 'acdeg', 'acdfg', 'bcdf', 'abdfg', 'abdefg', 'acf', 'abcdefg', 'abcdfg']\n",
    "str_2_num = {s: i for i, s in enumerate(normal_segments)}\n",
    "\n",
    "normal_segments_set = set(normal_segments)\n",
    "\n",
    "def parse_input(input_file):\n",
    "    lines = read_lines(input_file)\n",
    "    patterns = []\n",
    "    outputs = []\n",
    "    for line in lines:\n",
    "        ps, os = line.split(' | ')\n",
    "        patterns.append(ps.split(' '))\n",
    "        outputs.append(os.split(' '))\n",
    "    return patterns, outputs\n",
    "\n",
    "def part1(input_file):\n",
    "    patterns, outputs = parse_input(input_file)\n",
    "    uniq_len = {2, 3, 4, 7}\n",
    "    ans = 0\n",
    "    \n",
    "    for oo in outputs:\n",
    "        for o in oo:\n",
    "            if len(o) in uniq_len:\n",
    "                ans += 1\n",
    "    return ans\n",
    "\n",
    "def decode(patterns):\n",
    "    cs = [c for c in 'abcdefg']\n",
    "    for perm in permutations(cs):\n",
    "        decoder = dict(zip(cs, perm))\n",
    "        decoded = set()\n",
    "        for pp in patterns:\n",
    "            decoded.add(''.join(sorted([decoder[c] for c in pp])))\n",
    "        if decoded == normal_segments_set:\n",
    "            return decoder\n",
    "    \n",
    "\n",
    "def part2(input_file):\n",
    "    patterns, outputs = parse_input(input_file)\n",
    "    ans = 0\n",
    "    for pp, oo in zip(patterns, outputs):\n",
    "        decoder = decode(pp)\n",
    "        on = 0\n",
    "        for s in oo:\n",
    "            ds = ''.join(sorted([decoder[c] for c in s]))\n",
    "            on = on * 10 + str_2_num[ds]\n",
    "        ans += on\n",
    "    return ans\n"
   ]
  },
  {
   "cell_type": "code",
   "execution_count": 17,
   "metadata": {},
   "outputs": [
    {
     "data": {
      "text/plain": [
       "344"
      ]
     },
     "execution_count": 17,
     "metadata": {},
     "output_type": "execute_result"
    }
   ],
   "source": [
    "part1('inputs/day8.txt')"
   ]
  },
  {
   "cell_type": "code",
   "execution_count": 37,
   "metadata": {},
   "outputs": [
    {
     "data": {
      "text/plain": [
       "61229"
      ]
     },
     "execution_count": 37,
     "metadata": {},
     "output_type": "execute_result"
    }
   ],
   "source": [
    "part2('inputs/day8_test.txt')"
   ]
  },
  {
   "cell_type": "code",
   "execution_count": 38,
   "metadata": {},
   "outputs": [
    {
     "data": {
      "text/plain": [
       "1048410"
      ]
     },
     "execution_count": 38,
     "metadata": {},
     "output_type": "execute_result"
    }
   ],
   "source": [
    "part2('inputs/day8.txt')"
   ]
  },
  {
   "cell_type": "code",
   "execution_count": null,
   "metadata": {},
   "outputs": [],
   "source": []
  }
 ],
 "metadata": {
  "kernelspec": {
   "display_name": "Test",
   "language": "python",
   "name": "python3"
  },
  "language_info": {
   "codemirror_mode": {
    "name": "ipython",
    "version": 3
   },
   "file_extension": ".py",
   "mimetype": "text/x-python",
   "name": "python",
   "nbconvert_exporter": "python",
   "pygments_lexer": "ipython3",
   "version": "3.12.2"
  }
 },
 "nbformat": 4,
 "nbformat_minor": 2
}
