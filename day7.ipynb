{
 "cells": [
  {
   "cell_type": "code",
   "execution_count": 7,
   "metadata": {},
   "outputs": [],
   "source": [
    "from utils import read_lines\n",
    "import numpy as np\n",
    "\n",
    "def parse_input(input_file):\n",
    "    line = read_lines(input_file)[0]\n",
    "    return [int(x) for x in line.split(',')]\n",
    "\n",
    "def part1(input_file):\n",
    "    nums = parse_input(input_file)\n",
    "    nums = np.array(nums)\n",
    "    median = int(np.median(nums))\n",
    "    print(median)\n",
    "    print(np.sum(np.abs(nums - median)))\n",
    "    \n"
   ]
  },
  {
   "cell_type": "code",
   "execution_count": 8,
   "metadata": {},
   "outputs": [
    {
     "name": "stdout",
     "output_type": "stream",
     "text": [
      "2\n",
      "37\n"
     ]
    }
   ],
   "source": [
    "part1('inputs/day7_test.txt')"
   ]
  },
  {
   "cell_type": "code",
   "execution_count": 9,
   "metadata": {},
   "outputs": [
    {
     "name": "stdout",
     "output_type": "stream",
     "text": [
      "345\n",
      "343605\n"
     ]
    }
   ],
   "source": [
    "part1('inputs/day7.txt')"
   ]
  },
  {
   "cell_type": "code",
   "execution_count": 24,
   "metadata": {},
   "outputs": [
    {
     "name": "stdout",
     "output_type": "stream",
     "text": [
      "5\n"
     ]
    },
    {
     "data": {
      "text/plain": [
       "(168, 5)"
      ]
     },
     "execution_count": 24,
     "metadata": {},
     "output_type": "execute_result"
    }
   ],
   "source": [
    "def part2(input_file):\n",
    "    nums = parse_input(input_file)\n",
    "    nums = np.array(nums)\n",
    "    mean = int(np.round(nums.mean()))\n",
    "    print(mean)\n",
    "    min_fuel = float('inf')\n",
    "    min_tgt = 0\n",
    "    min_v = np.min(nums)\n",
    "    max_v = np.max(nums)\n",
    "    for tgt in range(mean - 50, mean+51):\n",
    "        fuel = 0\n",
    "        for num in nums:\n",
    "            steps = abs(num - tgt)\n",
    "            fuel += steps * (steps + 1) // 2\n",
    "        if fuel < min_fuel:\n",
    "            min_fuel = fuel\n",
    "            mean_tgt = tgt\n",
    "    return min_fuel, mean_tgt\n",
    "part2('inputs/day7_test.txt')"
   ]
  },
  {
   "cell_type": "code",
   "execution_count": 25,
   "metadata": {},
   "outputs": [
    {
     "name": "stdout",
     "output_type": "stream",
     "text": [
      "476\n"
     ]
    },
    {
     "data": {
      "text/plain": [
       "(96744904, 475)"
      ]
     },
     "execution_count": 25,
     "metadata": {},
     "output_type": "execute_result"
    }
   ],
   "source": [
    "part2('inputs/day7.txt')"
   ]
  },
  {
   "cell_type": "code",
   "execution_count": null,
   "metadata": {},
   "outputs": [],
   "source": []
  }
 ],
 "metadata": {
  "kernelspec": {
   "display_name": "Test",
   "language": "python",
   "name": "python3"
  },
  "language_info": {
   "codemirror_mode": {
    "name": "ipython",
    "version": 3
   },
   "file_extension": ".py",
   "mimetype": "text/x-python",
   "name": "python",
   "nbconvert_exporter": "python",
   "pygments_lexer": "ipython3",
   "version": "3.12.2"
  }
 },
 "nbformat": 4,
 "nbformat_minor": 2
}
