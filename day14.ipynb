{
 "cells": [
  {
   "cell_type": "code",
   "execution_count": 39,
   "metadata": {},
   "outputs": [],
   "source": [
    "from utils import read_lines\n",
    "from collections import Counter, defaultdict\n",
    "\n",
    "def parse_input(input_file):\n",
    "    lines = read_lines(input_file)\n",
    "    polymer = lines[0]\n",
    "    rules = {}\n",
    "    for line in lines[2:]:\n",
    "        a, b = line.split(' -> ')\n",
    "        rules[a] = b\n",
    "    return polymer, rules\n",
    "\n",
    "def react(polymer, rules):\n",
    "    inserts = []\n",
    "    for i in range(len(polymer) - 1):\n",
    "        inserts.append(rules.get(polymer[i:i+2], ''))\n",
    "    new_polymer = []\n",
    "    for i in range(len(polymer) - 1):\n",
    "        new_polymer.append(polymer[i])\n",
    "        if inserts[i]:\n",
    "            new_polymer.append(inserts[i])\n",
    "    new_polymer.append(polymer[-1])\n",
    "    return ''.join(new_polymer)\n",
    "\n",
    "def part1(input_file):\n",
    "    polymer, rules = parse_input(input_file)\n",
    "    for _ in range(10):\n",
    "        polymer = react(polymer, rules)\n",
    "    counter = Counter(polymer)\n",
    "    return max(counter.values()) - min(counter.values())\n",
    "\n",
    "def part2(input_file):\n",
    "    polymer, rules = parse_input(input_file)\n",
    "    letter_count = Counter(polymer)\n",
    "    pairs = defaultdict(int)\n",
    "    for i in range(len(polymer) - 1):\n",
    "        pairs[polymer[i:i+2]] += 1\n",
    "    \n",
    "    for _ in range(40):\n",
    "        new_pairs = defaultdict(int)\n",
    "        for k, v in pairs.items():\n",
    "            if k in rules:\n",
    "                insert = rules[k]\n",
    "                letter_count[insert] = letter_count.get(insert, 0) + v\n",
    "                new_pairs[k[0] + insert] += v\n",
    "                new_pairs[insert + k[1]] += v\n",
    "            else:\n",
    "                new_pairs[k] += v\n",
    "        pairs = new_pairs\n",
    "    return max(letter_count.values()) - min(letter_count.values())\n"
   ]
  },
  {
   "cell_type": "code",
   "execution_count": 9,
   "metadata": {},
   "outputs": [
    {
     "data": {
      "text/plain": [
       "3906"
      ]
     },
     "execution_count": 9,
     "metadata": {},
     "output_type": "execute_result"
    }
   ],
   "source": [
    "part1('inputs/day14.txt')"
   ]
  },
  {
   "cell_type": "code",
   "execution_count": 41,
   "metadata": {},
   "outputs": [
    {
     "data": {
      "text/plain": [
       "4441317262452"
      ]
     },
     "execution_count": 41,
     "metadata": {},
     "output_type": "execute_result"
    }
   ],
   "source": [
    "part2('inputs/day14.txt')"
   ]
  },
  {
   "cell_type": "code",
   "execution_count": null,
   "metadata": {},
   "outputs": [],
   "source": []
  }
 ],
 "metadata": {
  "kernelspec": {
   "display_name": "Test",
   "language": "python",
   "name": "python3"
  },
  "language_info": {
   "codemirror_mode": {
    "name": "ipython",
    "version": 3
   },
   "file_extension": ".py",
   "mimetype": "text/x-python",
   "name": "python",
   "nbconvert_exporter": "python",
   "pygments_lexer": "ipython3",
   "version": "3.12.2"
  }
 },
 "nbformat": 4,
 "nbformat_minor": 2
}
