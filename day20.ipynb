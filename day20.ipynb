{
 "cells": [
  {
   "cell_type": "code",
   "execution_count": 73,
   "metadata": {},
   "outputs": [],
   "source": [
    "from utils import read_lines\n",
    "\n",
    "def parse_input(input_file):\n",
    "    lines = read_lines(input_file)\n",
    "    encoder = ''\n",
    "    i = 0\n",
    "    while lines[i]:\n",
    "        encoder += lines[i]\n",
    "        i += 1\n",
    "    input = [line.rstrip() for line in lines[i+1:]]\n",
    "    return encoder, input\n",
    "\n",
    "def prepare_expand(input, ec = '.'):\n",
    "    new_input = []\n",
    "    n = len(input[0]) + 2\n",
    "    new_input.append(ec * n)\n",
    "    # new_input.append(ec * n)\n",
    "    for line in input:\n",
    "        new_input.append(ec + line + ec)\n",
    "    new_input.append(ec * n)\n",
    "    # new_input.append(ec * n)\n",
    "    return new_input\n",
    "\n",
    "deltas = [[1, 1], [1, 0], [1, -1], [0, 1], [0, 0], [0, -1], [-1, 1], [-1, 0], [-1, -1]]\n",
    "\n",
    "def expand(input, encoder, round, first_char):\n",
    "    if first_char == '#' and round % 2 == 0:\n",
    "        ec = '#'\n",
    "    else:\n",
    "        ec = '.'\n",
    "    input = prepare_expand(input, ec)\n",
    "    m = len(input)\n",
    "    n = len(input[0])\n",
    "    output = [['.'] * n for _ in range(m)]\n",
    "    for i in range(m):\n",
    "        for j in range(n):\n",
    "            idx = 0\n",
    "            for k, (di, dj) in enumerate(deltas):\n",
    "                ni, nj = i + di, j + dj\n",
    "                if ec == '.':\n",
    "                    if 0 <= ni < m and 0 <= nj < n and input[ni][nj] == '#':\n",
    "                        idx |= 1<<k\n",
    "                else:\n",
    "                    if not (0 <= ni < m and 0 <= nj < n) or input[ni][nj] == '#':\n",
    "                        idx |= 1<<k\n",
    "            output[i][j] = encoder[idx]\n",
    "    return [''.join(line) for line in output]\n",
    "\n",
    "def expand_multi(input_file, rounds):\n",
    "    from collections import Counter\n",
    "    encoder, input = parse_input(input_file)\n",
    "\n",
    "    for i in range(rounds):\n",
    "        input = expand(input, encoder, i + 1, encoder[0])\n",
    "    \n",
    "    ans = sum(Counter(line)['#'] for line in input)\n",
    "    return ans\n",
    "\n",
    "def part1(input_file):\n",
    "    return expand_multi(input_file, 2)\n",
    "\n",
    "def part2(input_file):\n",
    "    return expand_multi(input_file, 50)"
   ]
  },
  {
   "cell_type": "code",
   "execution_count": 74,
   "metadata": {},
   "outputs": [
    {
     "data": {
      "text/plain": [
       "35"
      ]
     },
     "execution_count": 74,
     "metadata": {},
     "output_type": "execute_result"
    }
   ],
   "source": [
    "part1('inputs/day20_test.txt')"
   ]
  },
  {
   "cell_type": "code",
   "execution_count": 75,
   "metadata": {},
   "outputs": [
    {
     "data": {
      "text/plain": [
       "5057"
      ]
     },
     "execution_count": 75,
     "metadata": {},
     "output_type": "execute_result"
    }
   ],
   "source": [
    "part1('inputs/day20.txt')"
   ]
  },
  {
   "cell_type": "code",
   "execution_count": 76,
   "metadata": {},
   "outputs": [
    {
     "data": {
      "text/plain": [
       "3351"
      ]
     },
     "execution_count": 76,
     "metadata": {},
     "output_type": "execute_result"
    }
   ],
   "source": [
    "part2('inputs/day20_test.txt')"
   ]
  },
  {
   "cell_type": "code",
   "execution_count": 77,
   "metadata": {},
   "outputs": [
    {
     "data": {
      "text/plain": [
       "18502"
      ]
     },
     "execution_count": 77,
     "metadata": {},
     "output_type": "execute_result"
    }
   ],
   "source": [
    "part2('inputs/day20.txt')"
   ]
  },
  {
   "cell_type": "code",
   "execution_count": null,
   "metadata": {},
   "outputs": [],
   "source": []
  }
 ],
 "metadata": {
  "kernelspec": {
   "display_name": "Test",
   "language": "python",
   "name": "python3"
  },
  "language_info": {
   "codemirror_mode": {
    "name": "ipython",
    "version": 3
   },
   "file_extension": ".py",
   "mimetype": "text/x-python",
   "name": "python",
   "nbconvert_exporter": "python",
   "pygments_lexer": "ipython3",
   "version": "3.12.2"
  }
 },
 "nbformat": 4,
 "nbformat_minor": 2
}
