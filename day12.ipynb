{
 "cells": [
  {
   "cell_type": "code",
   "execution_count": 61,
   "metadata": {},
   "outputs": [],
   "source": [
    "from utils import read_lines\n",
    "from collections import defaultdict, deque\n",
    "\n",
    "def parse_input(input_file):\n",
    "    graph = defaultdict(list)\n",
    "    for line in read_lines(input_file):\n",
    "        a, b = line.split('-')\n",
    "        if b != 'start' and a != 'end':\n",
    "            graph[a].append(b)\n",
    "        if a != 'start' and b!= 'end':\n",
    "            graph[b].append(a)\n",
    "    return graph\n",
    "\n",
    "def find_pathes(graph):\n",
    "    all_pathes = []\n",
    "    q = deque()\n",
    "    q.append(['start'])\n",
    "    while q:\n",
    "        cur_path = q.popleft()\n",
    "        for node in graph[cur_path[-1]]:\n",
    "            if node == 'end':\n",
    "                all_pathes.append(cur_path[:] + ['end'])\n",
    "                continue\n",
    "            if node[0].isupper() or node not in cur_path:\n",
    "                q.append(cur_path[:] + [node] )\n",
    "    return all_pathes\n",
    "\n",
    "def part1(input_file):\n",
    "    graph = parse_input(input_file)\n",
    "    pathes = find_pathes(graph)\n",
    "    return len(pathes)\n",
    "\n",
    "def find_pathes2(graph):\n",
    "    all_pathes = []\n",
    "    q = deque()\n",
    "    q.append((['start'], set(), None))\n",
    "    while q:\n",
    "        cur_path, visited, twice = q.popleft()\n",
    "        for node in graph[cur_path[-1]]:\n",
    "            if node == 'end':\n",
    "                all_pathes.append(','.join(cur_path[:] + ['end']))     \n",
    "            elif node[0].isupper():\n",
    "                q.append((cur_path[:] + [node], set(visited), twice))\n",
    "            elif node not in visited:\n",
    "                new_visited = set(visited)\n",
    "                new_visited.add(node)\n",
    "                q.append((cur_path[:] + [node], new_visited, twice))\n",
    "            elif twice is None:\n",
    "                q.append((cur_path[:] + [node], set(visited), node))\n",
    "\n",
    "    return all_pathes\n",
    "\n",
    "def part2(input_file):\n",
    "    graph = parse_input(input_file)\n",
    "    pathes = find_pathes2(graph)\n",
    "    pathes = sorted(list(pathes))\n",
    "    \n",
    "    return len(pathes)"
   ]
  },
  {
   "cell_type": "code",
   "execution_count": 15,
   "metadata": {},
   "outputs": [
    {
     "data": {
      "text/plain": [
       "4167"
      ]
     },
     "execution_count": 15,
     "metadata": {},
     "output_type": "execute_result"
    }
   ],
   "source": [
    "part1('inputs/day12.txt')"
   ]
  },
  {
   "cell_type": "code",
   "execution_count": 63,
   "metadata": {},
   "outputs": [
    {
     "data": {
      "text/plain": [
       "98441"
      ]
     },
     "execution_count": 63,
     "metadata": {},
     "output_type": "execute_result"
    }
   ],
   "source": [
    "part2('inputs/day12.txt')"
   ]
  },
  {
   "cell_type": "code",
   "execution_count": 27,
   "metadata": {},
   "outputs": [
    {
     "data": {
      "text/plain": [
       "(1, 2, 3)"
      ]
     },
     "execution_count": 27,
     "metadata": {},
     "output_type": "execute_result"
    }
   ],
   "source": [
    "tuple([1,2,3])"
   ]
  },
  {
   "cell_type": "code",
   "execution_count": 54,
   "metadata": {},
   "outputs": [
    {
     "name": "stdout",
     "output_type": "stream",
     "text": [
      "{1, 2, 3}\n",
      "{1, 2, 3, 4}\n"
     ]
    }
   ],
   "source": [
    "s = {1,2,3}\n",
    "s1 = set(s)\n",
    "s1.add(4)\n",
    "print(s)\n",
    "print(s1)"
   ]
  },
  {
   "cell_type": "code",
   "execution_count": null,
   "metadata": {},
   "outputs": [],
   "source": []
  }
 ],
 "metadata": {
  "kernelspec": {
   "display_name": "Test",
   "language": "python",
   "name": "python3"
  },
  "language_info": {
   "codemirror_mode": {
    "name": "ipython",
    "version": 3
   },
   "file_extension": ".py",
   "mimetype": "text/x-python",
   "name": "python",
   "nbconvert_exporter": "python",
   "pygments_lexer": "ipython3",
   "version": "3.12.2"
  }
 },
 "nbformat": 4,
 "nbformat_minor": 2
}
