{
 "cells": [
  {
   "cell_type": "code",
   "execution_count": 36,
   "metadata": {},
   "outputs": [],
   "source": [
    "from utils import read_lines\n",
    "\n",
    "class Packet:\n",
    "    def __init__(self, version, tp, value=0, sub_packets=[]):\n",
    "        self.version = version\n",
    "        self.tp = tp\n",
    "        self.value = value\n",
    "        self.sub_packets = sub_packets\n",
    "\n",
    "    def sum_versions(self):\n",
    "        return self.version + sum(p.sum_versions() for p in self.sub_packets)\n",
    "    \n",
    "    def get_value(self):\n",
    "        if self.tp == 4:\n",
    "            return self.value\n",
    "        elif self.tp == 0:\n",
    "            return sum(x.get_value() for x in self.sub_packets)\n",
    "        elif self.tp == 1:\n",
    "            ans = 1\n",
    "            for sub in self.sub_packets:\n",
    "                ans *= sub.get_value()\n",
    "            return ans\n",
    "        elif self.tp == 2:\n",
    "            return min(x.get_value() for x in self.sub_packets)\n",
    "        elif self.tp == 3:\n",
    "            return max(x.get_value() for x in self.sub_packets)\n",
    "        elif self.tp == 5:\n",
    "            return 1 if self.sub_packets[0].get_value() > self.sub_packets[1].get_value() else 0\n",
    "        elif self.tp == 6:\n",
    "            return 1 if self.sub_packets[0].get_value() < self.sub_packets[1].get_value() else 0\n",
    "        elif self.tp == 7:\n",
    "            return 1 if self.sub_packets[0].get_value() == self.sub_packets[1].get_value() else 0\n",
    "\n",
    "    \n",
    "    def __repr__(self) -> str:\n",
    "        return str(self.__dict__)\n",
    "    \n",
    "def parse_packet(bin_str, start):\n",
    "    version = int(bin_str[start:start+3], 2)\n",
    "    tp = int(bin_str[start + 3:start+6], 2)\n",
    "    if tp == 4:\n",
    "        i = start + 6\n",
    "        value = ''\n",
    "        while True:\n",
    "            value += bin_str[i+1:i+5]\n",
    "            if bin_str[i] == '0':\n",
    "                i += 5\n",
    "                break\n",
    "            else:\n",
    "                i += 5\n",
    "        value = int(value, 2)\n",
    "        literal = Packet(version, tp, value)\n",
    "        return literal, i\n",
    "    else:\n",
    "        sub_packets = []\n",
    "        tid = bin_str[start+6]\n",
    "        if tid == '0':\n",
    "            p_len = int(bin_str[start+7:start+22], 2)\n",
    "            end_pos = start + 22 + p_len\n",
    "            i = start + 22\n",
    "            \n",
    "            while i < end_pos:\n",
    "                sub_p, i = parse_packet(bin_str, i)\n",
    "                sub_packets.append(sub_p)\n",
    "            op_packet = Packet(version, tp, sub_packets=sub_packets)\n",
    "            return op_packet, end_pos\n",
    "        else:\n",
    "            sub_len = int(bin_str[start+7:start+18], 2)\n",
    "            i = start + 18\n",
    "            while len(sub_packets) < sub_len:\n",
    "                sub_p, i = parse_packet(bin_str, i)\n",
    "                sub_packets.append(sub_p)\n",
    "            op_packet = Packet(version, tp, sub_packets=sub_packets)\n",
    "            return op_packet, i\n",
    "\n",
    "def parse_packet_from_hex(hex_str):\n",
    "    bin_str = hex_to_bin(hex_str)\n",
    "    return parse_packet(bin_str, 0)\n",
    "\n",
    "def hex_to_bin(hex_str):\n",
    "    bin_str = bin(int(hex_str, base=16))[2:]\n",
    "    if len(bin_str) % 4:\n",
    "        return '0' * (4 - len(bin_str) % 4) + bin_str\n",
    "    else:\n",
    "        return bin_str\n",
    "    \n",
    "def part1(input_file):\n",
    "    line = read_lines(input_file)[0]\n",
    "    bin_str = hex_to_bin(line)\n",
    "    packet, _ = parse_packet(bin_str, 0)\n",
    "    return packet.sum_versions()\n",
    "\n",
    "def part2(input_file):\n",
    "    line = read_lines(input_file)[0]\n",
    "    bin_str = hex_to_bin(line)\n",
    "    packet, _ = parse_packet(bin_str, 0)\n",
    "    return packet.get_value()\n"
   ]
  },
  {
   "cell_type": "code",
   "execution_count": 33,
   "metadata": {},
   "outputs": [
    {
     "data": {
      "text/plain": [
       "984"
      ]
     },
     "execution_count": 33,
     "metadata": {},
     "output_type": "execute_result"
    }
   ],
   "source": [
    "part1('inputs/day16.txt')"
   ]
  },
  {
   "cell_type": "code",
   "execution_count": 37,
   "metadata": {},
   "outputs": [
    {
     "data": {
      "text/plain": [
       "1015320896946"
      ]
     },
     "execution_count": 37,
     "metadata": {},
     "output_type": "execute_result"
    }
   ],
   "source": [
    "part2('inputs/day16.txt')"
   ]
  },
  {
   "cell_type": "code",
   "execution_count": 23,
   "metadata": {},
   "outputs": [],
   "source": [
    "p, end = parse_packet_from_hex('D2FE28')\n",
    "assert p.value == 2021\n",
    "assert end == 21"
   ]
  },
  {
   "cell_type": "code",
   "execution_count": 25,
   "metadata": {},
   "outputs": [],
   "source": [
    "p, end = parse_packet_from_hex('38006F45291200')\n",
    "assert p.sub_packets[0].value == 10\n",
    "assert p.sub_packets[1].value == 20\n",
    "assert end == 49"
   ]
  },
  {
   "cell_type": "code",
   "execution_count": 38,
   "metadata": {},
   "outputs": [],
   "source": [
    "p, end = parse_packet_from_hex('EE00D40C823060')\n",
    "assert p.sub_packets[0].value == 1\n",
    "assert p.sub_packets[1].value == 2\n",
    "assert p.sub_packets[2].value == 3\n",
    "assert end == 51"
   ]
  },
  {
   "cell_type": "code",
   "execution_count": null,
   "metadata": {},
   "outputs": [],
   "source": []
  }
 ],
 "metadata": {
  "kernelspec": {
   "display_name": "Test",
   "language": "python",
   "name": "python3"
  },
  "language_info": {
   "codemirror_mode": {
    "name": "ipython",
    "version": 3
   },
   "file_extension": ".py",
   "mimetype": "text/x-python",
   "name": "python",
   "nbconvert_exporter": "python",
   "pygments_lexer": "ipython3",
   "version": "3.12.2"
  }
 },
 "nbformat": 4,
 "nbformat_minor": 2
}
