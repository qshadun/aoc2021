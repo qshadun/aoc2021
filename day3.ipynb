{
 "cells": [
  {
   "cell_type": "code",
   "execution_count": 18,
   "metadata": {},
   "outputs": [],
   "source": [
    "from utils import read_lines\n",
    "\n",
    "def part1(input_file):\n",
    "    lines = read_lines(input_file)\n",
    "    n = len(lines[0])\n",
    "    count_one = [0] * n\n",
    "    count_zero = [0] * n\n",
    "    for line in lines:\n",
    "        for i, c in enumerate(line):\n",
    "            if c == '1':\n",
    "                count_one[i] += 1\n",
    "            else:\n",
    "                count_zero[i] += 1\n",
    "    \n",
    "    gamma = 0\n",
    "    epsilon = 0\n",
    "    for i in range(n):\n",
    "        if count_one[i] > count_zero[i]:\n",
    "            gamma |= 1 << (n - 1 -i)\n",
    "        else:\n",
    "            epsilon |= 1 << (n - 1 -i)\n",
    "    return gamma * epsilon\n",
    "\n",
    "def find_oxygen(lines):\n",
    "    remain = lines[:]\n",
    "    n = len(remain[0])\n",
    "    for i in range(n):\n",
    "        count_one = 0\n",
    "        count_zero = 0\n",
    "        for num in remain:\n",
    "            if num[i] == '1':\n",
    "                count_one += 1\n",
    "            else:\n",
    "                count_zero += 1\n",
    "        if count_one >= count_zero:\n",
    "            remain = [x for x in remain if x[i] == '1']\n",
    "        else:\n",
    "            remain = [x for x in remain if x[i] == '0']\n",
    "        if len(remain) == 1:\n",
    "            break\n",
    "    return int(remain[0], base=2)\n",
    "\n",
    "def find_co2(lines):\n",
    "    remain = lines[:]\n",
    "    n = len(remain[0])\n",
    "    for i in range(n):\n",
    "        count_one = 0\n",
    "        count_zero = 0\n",
    "        for num in remain:\n",
    "            if num[i] == '1':\n",
    "                count_one += 1\n",
    "            else:\n",
    "                count_zero += 1\n",
    "        if count_one >= count_zero:\n",
    "            remain = [x for x in remain if x[i] == '0']\n",
    "        else:\n",
    "            remain = [x for x in remain if x[i] == '1']\n",
    "        if len(remain) == 1:\n",
    "            break\n",
    "    return int(remain[0], base=2)\n",
    "\n",
    "\n",
    "def part2(input_file):\n",
    "    lines = read_lines(input_file)\n",
    "    co2 = find_co2(lines)\n",
    "    oxygen = find_oxygen(lines)\n",
    "    print(oxygen, co2)\n",
    "    return oxygen * co2"
   ]
  },
  {
   "cell_type": "code",
   "execution_count": 10,
   "metadata": {},
   "outputs": [
    {
     "data": {
      "text/plain": [
       "3009600"
      ]
     },
     "execution_count": 10,
     "metadata": {},
     "output_type": "execute_result"
    }
   ],
   "source": [
    "part1('inputs/day3.txt')"
   ]
  },
  {
   "cell_type": "code",
   "execution_count": 20,
   "metadata": {},
   "outputs": [
    {
     "name": "stdout",
     "output_type": "stream",
     "text": [
      "3939 1762\n"
     ]
    },
    {
     "data": {
      "text/plain": [
       "6940518"
      ]
     },
     "execution_count": 20,
     "metadata": {},
     "output_type": "execute_result"
    }
   ],
   "source": [
    "part2('inputs/day3.txt')"
   ]
  },
  {
   "cell_type": "code",
   "execution_count": null,
   "metadata": {},
   "outputs": [],
   "source": []
  }
 ],
 "metadata": {
  "kernelspec": {
   "display_name": "Test",
   "language": "python",
   "name": "python3"
  },
  "language_info": {
   "codemirror_mode": {
    "name": "ipython",
    "version": 3
   },
   "file_extension": ".py",
   "mimetype": "text/x-python",
   "name": "python",
   "nbconvert_exporter": "python",
   "pygments_lexer": "ipython3",
   "version": "3.12.2"
  }
 },
 "nbformat": 4,
 "nbformat_minor": 2
}
