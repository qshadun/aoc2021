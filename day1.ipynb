{
 "cells": [
  {
   "cell_type": "code",
   "execution_count": 2,
   "metadata": {},
   "outputs": [
    {
     "name": "stdout",
     "output_type": "stream",
     "text": [
      "1559\n"
     ]
    }
   ],
   "source": [
    "from utils import read_lines\n",
    "\n",
    "lines = read_lines('inputs/day1.txt')\n",
    "\n",
    "nums = [int(line) for line in lines]\n",
    "part1 = 0\n",
    "for i in range(1, len(nums)):\n",
    "    if nums[i] > nums[i - 1]:\n",
    "        part1 += 1\n",
    "print(part1)"
   ]
  },
  {
   "cell_type": "code",
   "execution_count": 7,
   "metadata": {},
   "outputs": [
    {
     "name": "stdout",
     "output_type": "stream",
     "text": [
      "1600\n"
     ]
    }
   ],
   "source": [
    "# sum3 = [sum(nums[:3])]\n",
    "part2 = 0\n",
    "for i in range(len(nums)-3):\n",
    "    if nums[i] < nums[i + 3]:\n",
    "        part2 += 1\n",
    "print(part2)\n",
    "\n"
   ]
  },
  {
   "cell_type": "code",
   "execution_count": null,
   "metadata": {},
   "outputs": [],
   "source": []
  }
 ],
 "metadata": {
  "kernelspec": {
   "display_name": "Test",
   "language": "python",
   "name": "python3"
  },
  "language_info": {
   "codemirror_mode": {
    "name": "ipython",
    "version": 3
   },
   "file_extension": ".py",
   "mimetype": "text/x-python",
   "name": "python",
   "nbconvert_exporter": "python",
   "pygments_lexer": "ipython3",
   "version": "3.12.2"
  }
 },
 "nbformat": 4,
 "nbformat_minor": 2
}
