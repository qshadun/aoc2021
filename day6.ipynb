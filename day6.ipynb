{
 "cells": [
  {
   "cell_type": "code",
   "execution_count": 1,
   "metadata": {},
   "outputs": [],
   "source": [
    "from utils import read_lines\n",
    "\n",
    "def parse_input(input_file):\n",
    "    line = read_lines(input_file)[0]\n",
    "    return [int(x) for x in line.split(',')]\n",
    "\n",
    "def part1(input_file):\n",
    "    fishes = parse_input(input_file)\n",
    "    for _ in range(80):\n",
    "        n = len(fishes)\n",
    "        for i in range(n):\n",
    "            if fishes[i] == 0:\n",
    "                fishes[i] = 6\n",
    "                fishes.append(8)\n",
    "            else:\n",
    "                fishes[i] -= 1\n",
    "    return len(fishes)"
   ]
  },
  {
   "cell_type": "code",
   "execution_count": 2,
   "metadata": {},
   "outputs": [
    {
     "data": {
      "text/plain": [
       "5934"
      ]
     },
     "execution_count": 2,
     "metadata": {},
     "output_type": "execute_result"
    }
   ],
   "source": [
    "part1('inputs/day6_test.txt')"
   ]
  },
  {
   "cell_type": "code",
   "execution_count": 3,
   "metadata": {},
   "outputs": [
    {
     "data": {
      "text/plain": [
       "386640"
      ]
     },
     "execution_count": 3,
     "metadata": {},
     "output_type": "execute_result"
    }
   ],
   "source": [
    "part1('inputs/day6.txt')"
   ]
  },
  {
   "cell_type": "code",
   "execution_count": 11,
   "metadata": {},
   "outputs": [
    {
     "data": {
      "text/plain": [
       "26984457539"
      ]
     },
     "execution_count": 11,
     "metadata": {},
     "output_type": "execute_result"
    }
   ],
   "source": [
    "def part2(input_file):\n",
    "    fishes = parse_input(input_file)\n",
    "    count_by_day = [0] * 9\n",
    "    for num in fishes:\n",
    "        count_by_day[num] += 1\n",
    "\n",
    "    for _ in range(256):\n",
    "        new_count_by_day = [0] * 9\n",
    "        new_count_by_day[8] = count_by_day[0]\n",
    "        new_count_by_day[6] = count_by_day[0]\n",
    "        for i in range(1, 9):\n",
    "            new_count_by_day[i - 1] += count_by_day[i]\n",
    "        count_by_day = new_count_by_day\n",
    "    return sum(count_by_day)\n",
    "part2('inputs/day6_test.txt')"
   ]
  },
  {
   "cell_type": "code",
   "execution_count": 12,
   "metadata": {},
   "outputs": [
    {
     "data": {
      "text/plain": [
       "1733403626279"
      ]
     },
     "execution_count": 12,
     "metadata": {},
     "output_type": "execute_result"
    }
   ],
   "source": [
    "part2('inputs/day6.txt')"
   ]
  },
  {
   "cell_type": "code",
   "execution_count": null,
   "metadata": {},
   "outputs": [],
   "source": []
  }
 ],
 "metadata": {
  "kernelspec": {
   "display_name": "Test",
   "language": "python",
   "name": "python3"
  },
  "language_info": {
   "codemirror_mode": {
    "name": "ipython",
    "version": 3
   },
   "file_extension": ".py",
   "mimetype": "text/x-python",
   "name": "python",
   "nbconvert_exporter": "python",
   "pygments_lexer": "ipython3",
   "version": "3.12.2"
  }
 },
 "nbformat": 4,
 "nbformat_minor": 2
}
